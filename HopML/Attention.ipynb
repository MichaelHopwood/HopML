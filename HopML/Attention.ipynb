{
 "cells": [
  {
   "cell_type": "markdown",
   "source": [
    "# Attention\r\n",
    "\r\n",
    "**Source:** https://github.com/uzaymacar/attention-mechanisms\r\n"
   ],
   "metadata": {}
  }
 ],
 "metadata": {
  "orig_nbformat": 4,
  "language_info": {
   "name": "python",
   "version": "3.6.8"
  },
  "kernelspec": {
   "name": "python3",
   "display_name": "Python 3.6.8 64-bit"
  },
  "interpreter": {
   "hash": "7c28e26739430500fec97d508cbac2e5d4a112deb445b412c4e69aa96f605479"
  }
 },
 "nbformat": 4,
 "nbformat_minor": 2
}