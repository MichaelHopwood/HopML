{
 "cells": [
  {
   "cell_type": "markdown",
   "metadata": {},
   "source": [
    "# Attention\n",
    "\n",
    "**See for implementations:** https://github.com/uzaymacar/attention-mechanisms"
   ]
  },
  {
   "cell_type": "markdown",
   "metadata": {},
   "source": [
    "The key/value/query formulation of attention is from the paper [Attention Is All You Need][1].\n",
    "\n",
    "> How should one understand the queries, keys, and values\n",
    "\n",
    "The key/value/query concepts come from retrieval systems. For example, when you type a query to search for some video on Youtube, the search engine will map your **query** against a set of **keys** (video title, description, etc.) associated with candidate videos in the database, then present you the best matched videos (**values**).\n",
    "\n",
    "The attention operation turns out can be thought of as a retrieval process as well, so the key/value/query concepts also apply here. (BTW the above example is just a toy system for illustration, in practice search engines \n",
    " and recommendation systems are much more complex.)\n",
    "\n",
    "\n",
    "As mentioned in the paper you referenced ([Neural Machine Translation by Jointly Learning to Align and Translate][2]), attention by definition is just a weighted average of values,\n",
    "\n",
    "$$c=\\sum_{j}\\alpha_jh_j$$\n",
    "where $\\sum \\alpha_j=1$. \n",
    "\n",
    "If we restrict $\\alpha$ to be a one-hot vector, this operation becomes the same as retrieving from a set of elements $h$ with index $\\alpha$. With the restriction removed, the attention operation can be thought of as doing \"proportional retrieval\" according to the probability vector $\\alpha$.\n",
    "\n",
    "It should be clear that $h$ in this context is the **value**. The difference between the two papers lies in how the probability vector $\\alpha$ is calculated. The first paper (Bahdanau et al. 2015) computes the score through a neural network $$e_{ij}=a(s_i,h_j), \\qquad \\alpha_{i,j}=\\frac{\\exp(e_{ij})}{\\sum_k\\exp(e_{ik})}$$\n",
    "where $h_j$ is from the encoder sequence, and $s_i$ is from the decoder sequence. One problem of this approach is, say the encoder sequence is of length $m$ and the decoding sequence is of length $n$, we have to go through the network $m*n$ times to acquire all the attention scores $e_{ij}$.\n",
    "\n",
    "A more efficient model would be to first project $s$ and $h$ onto a common space, then choose a similarity measure (e.g. dot product) as the attention score, like\n",
    "$$e_{ij}=f(s_i)g(h_j)^T$$\n",
    "so we only have to compute $g(h_j)$ $m$ times and $f(s_i)$ $n$ times to get the projection vectors and $e_{ij}$ can be computed efficiently by matrix multiplication.\n",
    "\n",
    "This is essentially the approach proposed by the second paper (Vaswani et al. 2017), where the two projection vectors are called **query** (for decoder) and **key** (for encoder), which is well aligned with the concepts in retrieval systems. (There are later techniques to further reduce the computational complexity, for example [Reformer][3], [Linformer][4].)\n",
    "\n",
    "> How are the queries, keys, and values obtained\n",
    "\n",
    "The proposed multihead attention alone doesn't say much about how the queries, keys, and values are obtained, they can come from different sources depending on the application scenario.\n",
    "\n",
    "$$\n",
    "\\begin{align*}\\text{MultiHead($Q$, $K$, $V$)} & = \\text{Concat}(\\text{head}_1, \\dots, \\text{head}_h) W^{O} \\\\\n",
    "\\text{where head$_i$} &  = \\text{Attention($QW_i^Q$, $KW_i^K$, $VW_i^V$)}\n",
    "\\end{align*}$$\n",
    "Where the projections are parameter matrices:\n",
    "$$\n",
    "\\begin{align*}\n",
    "W_i^Q & \\in \\mathbb{R}^{d_\\text{model} \\times d_k}, \\\\\n",
    "W_i^K & \\in \\mathbb{R}^{d_\\text{model} \\times d_k}, \\\\\n",
    "W_i^V & \\in \\mathbb{R}^{d_\\text{model} \\times d_v}, \\\\\n",
    "W_i^O & \\in \\mathbb{R}^{hd_v \\times d_{\\text{model}}}.\n",
    "\\end{align*}$$\n",
    "\n",
    "For unsupervised language model training like [GPT][6], $Q, K, V$ are usually from the same source, so such operation is also called self-attention.\n",
    "\n",
    "For the machine translation task in the second paper, it first applies self-attention separately to source and target sequences, then on top of that it applies another attention where $Q$ is from the target sequence and $K, V$ are from the source sequence.\n",
    "\n",
    "For recommendation systems, $Q$ can be from the target items, $K, V$ can be from the user profile and history.\n",
    "\n",
    "\n",
    "  [1]: https://papers.nips.cc/paper/7181-attention-is-all-you-need.pdf\n",
    "  [2]: https://arxiv.org/abs/1409.0473\n",
    "  [3]: https://ai.googleblog.com/2020/01/reformer-efficient-transformer.html\n",
    "  [4]: https://arxiv.org/pdf/2006.04768.pdf\n",
    "  [6]: https://s3-us-west-2.amazonaws.com/openai-assets/research-covers/language-unsupervised/language_understanding_paper.pdf\n"
   ]
  },
  {
   "cell_type": "code",
   "execution_count": 1,
   "metadata": {},
   "outputs": [
    {
     "name": "stdout",
     "output_type": "stream",
     "text": [
      "[[0.98522025 1.74174051 0.75652026]\n",
      " [0.90965265 1.40965265 0.5       ]\n",
      " [0.99851226 1.75849334 0.75998108]\n",
      " [0.99560386 1.90407309 0.90846923]]\n"
     ]
    }
   ],
   "source": [
    "from numpy import array\n",
    "from numpy import random\n",
    "from numpy import dot\n",
    "from scipy.special import softmax\n",
    " \n",
    "# encoder representations of four different words\n",
    "word_1 = array([1, 0, 0])\n",
    "word_2 = array([0, 1, 0])\n",
    "word_3 = array([1, 1, 0])\n",
    "word_4 = array([0, 0, 1])\n",
    " \n",
    "# stacking the word embeddings into a single array\n",
    "words = array([word_1, word_2, word_3, word_4])\n",
    " \n",
    "# generating the weight matrices\n",
    "random.seed(42)\n",
    "W_Q = random.randint(3, size=(3, 3))\n",
    "W_K = random.randint(3, size=(3, 3))\n",
    "W_V = random.randint(3, size=(3, 3))\n",
    " \n",
    "# generating the queries, keys and values\n",
    "Q = words @ W_Q\n",
    "K = words @ W_K\n",
    "V = words @ W_V\n",
    "\n",
    "# scoring the query vectors against all key vectors\n",
    "scores = Q @ K.transpose()\n",
    " \n",
    "# computing the weights by a softmax operation\n",
    "weights = softmax(scores / K.shape[1] ** 0.5, axis=1)\n",
    " \n",
    "# computing the attention by a weighted sum of the value vectors\n",
    "attention = weights @ V\n",
    " \n",
    "print(attention)"
   ]
  }
 ],
 "metadata": {
  "interpreter": {
   "hash": "7c28e26739430500fec97d508cbac2e5d4a112deb445b412c4e69aa96f605479"
  },
  "kernelspec": {
   "display_name": "Python 3.6.8 64-bit",
   "name": "python3"
  },
  "language_info": {
   "codemirror_mode": {
    "name": "ipython",
    "version": 3
   },
   "file_extension": ".py",
   "mimetype": "text/x-python",
   "name": "python",
   "nbconvert_exporter": "python",
   "pygments_lexer": "ipython3",
   "version": "3.6.8"
  },
  "orig_nbformat": 4
 },
 "nbformat": 4,
 "nbformat_minor": 2
}
