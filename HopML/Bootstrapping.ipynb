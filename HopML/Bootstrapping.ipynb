{
 "cells": [
  {
   "cell_type": "markdown",
   "source": [
    "# Bootstrapping\r\n",
    "\r\n",
    "**Can we estimate the mean of a distribution without using a parametric model?**\r\n",
    "\r\n",
    "Key idea is to first estimate the distribution non-parametrically, and then get an estimate of the mean.\r\n",
    "\r\n",
    "**What about the standard error of that estimator? How to get a C.I.**\r\n",
    "\r\n",
    "Bootstrapping!\r\n",
    "\r\n",
    "## Bootstrap principle"
   ],
   "metadata": {}
  }
 ],
 "metadata": {
  "orig_nbformat": 4,
  "language_info": {
   "name": "python",
   "version": "3.6.8"
  },
  "kernelspec": {
   "name": "python3",
   "display_name": "Python 3.6.8 64-bit"
  },
  "interpreter": {
   "hash": "7c28e26739430500fec97d508cbac2e5d4a112deb445b412c4e69aa96f605479"
  }
 },
 "nbformat": 4,
 "nbformat_minor": 2
}