{
 "cells": [
  {
   "cell_type": "markdown",
   "metadata": {},
   "source": [
    "# Explainable AI\r\n",
    "\r\n",
    "There exist a few categories of explainable AI: post-hoc, intrinsic, and distillation.\r\n",
    "\r\n",
    "The post-hoc paradigm usually provides a heat map highlighting important regions\r\n",
    "for the decision (e.g. [31, 30]). The heat map is computed besides the forward path of the model. The intrinsic paradigm explores the important piece of information\r\n",
    "within the forward path of the model, e.g., as attention maps\r\n",
    "\r\n",
    "1. **Post-hoc** uses forward path of the model to calculate (usually) a heat map which highlight important regions in an image.\r\n",
    "\r\n",
    "2. **Intrinsic** looks at attention maps, exploring the important piece of information within the forward path of the model.\r\n",
    "\r\n",
    "3. **Distillation** tries to rebuild the neural network into a transparent model. "
   ]
  }
 ],
 "metadata": {
  "kernelspec": {
   "display_name": "Python 3.6.8 64-bit",
   "name": "python368jvsc74a57bd07c28e26739430500fec97d508cbac2e5d4a112deb445b412c4e69aa96f605479"
  },
  "language_info": {
   "name": "python",
   "version": ""
  },
  "orig_nbformat": 2
 },
 "nbformat": 4,
 "nbformat_minor": 2
}