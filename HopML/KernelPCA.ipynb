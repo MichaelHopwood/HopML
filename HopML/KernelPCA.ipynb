{
 "cells": [
  {
   "attachments": {},
   "cell_type": "markdown",
   "metadata": {},
   "source": [
    "# Kernel PCA\n",
    "\n",
    "Linear separation of nonlinear data via transforming the space to be linearly separable via kernels.\n",
    "\n",
    "$$\\phi : \\mathbb{R}^2 \\xrightarrow{} \\mathbb{R}^3$$\n"
   ]
  },
  {
   "cell_type": "code",
   "execution_count": 1,
   "metadata": {},
   "outputs": [
    {
     "data": {
      "image/png": "[encoded data removed]",
      "text/plain": [
       "<PIL.PngImagePlugin.PngImageFile image mode=RGBA size=726x264 at 0x2B4947ED460>"
      ]
     },
     "metadata": {},
     "output_type": "display_data"
    }
   ],
   "source": [
    "from utils import disp\n",
    "disp('kernelpca.drawio.png')"
   ]
  },
  {
   "attachments": {},
   "cell_type": "markdown",
   "metadata": {},
   "source": [
    "\n",
    "$$K = \\begin{bmatrix}\n",
    "K(x_1, x_1), k(x_1, x_2), ..., k(x_1, x_n)\\\\\n",
    "K(x_2, x_1), k(x_2, x_2), ..., k(x_2, x_n)\\\\\n",
    "\\vdots\\\\\n",
    "K(x_m, x_1), k(x_m, x_2), ..., k(x_m, x_n)\\\\\n",
    "\\end{bmatrix}$$\n",
    "\n",
    "where a kernel could be (for instance) $K(x_i, x_j) = \\frac{1}{2} \\exp ( -h ||x_i - x_j||^2 )$ where $h$ is a scaling factor, and the samples $x_i, x_j \\in D$ are in the data. A kernel is a pairwise distance function. Therefore it is symmetric and invertable (so we can map between our space and back to original with no loss). \n",
    "\n",
    "The kernel function can be broken down into a matrix multiplication $K = \\phi(x) \\phi(x)^T$ where (as stated above) $\\phi$ is the model.\n",
    "\n",
    "Note: $K$ must be centered.\n",
    "\n",
    "$$\\tilde{\\phi}(x_i) = \\phi(x_i) - \\frac{1}{d} \\sum_{k=d}^l (x_l)$$\n",
    "\n",
    "$$\\tilde{K}(x_j) = \\tilde{\\phi}(x_i)^T \\tilde{\\phi}(x_i)$$\n",
    "\n",
    "$$ = \\phi(x_i) - \\frac{1}{d} \\sum_{k=1}^d \\phi(x_k)^T \\phi(x_j) - \\frac{1}{d} \\sum_{i=1}^d \\phi(x_k)$$\n",
    "\n",
    "$$ = K(x_i, x_j) - \\frac{1}{d} \\sum_{i=1}^d k(x_i, x_j) - \\frac{1}{d} \\sum_{k=1}^d K(x_i, x_k) + \\frac{1}{d^2} \\sum_{k=1}^d K(x_d, x_k)$$\n",
    "\n",
    "### Algorithm\n",
    "\n",
    "1. Pick kernel $K(x_i, x_j)$\n",
    "\n",
    "2. Calculate kernel matrix $K$\n",
    "\n",
    "3. Center $K$\n",
    "\n",
    "4. Find eigenvectors $Kv = \\lambda v$\n",
    "\n",
    "5. Project data onto new dimensions $z_{new} = \\phi^T K(x^.)$\n",
    "\n",
    "$K(x^.)$ project each data point into original space to new data point in kernel space."
   ]
  }
 ],
 "metadata": {
  "kernelspec": {
   "display_name": "Python 3",
   "language": "python",
   "name": "python3"
  },
  "language_info": {
   "codemirror_mode": {
    "name": "ipython",
    "version": 3
   },
   "file_extension": ".py",
   "mimetype": "text/x-python",
   "name": "python",
   "nbconvert_exporter": "python",
   "pygments_lexer": "ipython3",
   "version": "3.8.5"
  },
  "orig_nbformat": 4,
  "vscode": {
   "interpreter": {
    "hash": "8180df55a6c751d640a512e9acccb76e32a247f5c207f09e4b8101856c6a1078"
   }
  }
 },
 "nbformat": 4,
 "nbformat_minor": 2
}
