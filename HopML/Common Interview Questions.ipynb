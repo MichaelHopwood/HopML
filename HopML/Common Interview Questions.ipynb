{
 "cells": [
  {
   "cell_type": "markdown",
   "source": [
    "# Common Interview Questions\r\n",
    "\r\n",
    "Here, I answer questions from published [here](https://huyenchip.com/ml-interviews-book/contents/) in preparation for my interviews."
   ],
   "metadata": {}
  },
  {
   "cell_type": "markdown",
   "source": [
    "## Vectors\r\n",
    "\r\n"
   ],
   "metadata": {}
  }
 ],
 "metadata": {
  "orig_nbformat": 4,
  "language_info": {
   "name": "python"
  }
 },
 "nbformat": 4,
 "nbformat_minor": 2
}