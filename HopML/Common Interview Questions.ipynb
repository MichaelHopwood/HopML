{
 "cells": [
  {
   "cell_type": "markdown",
   "source": [
    "# Common Interview Questions\r\n",
    "\r\n",
    "Here, I answer questions from published [here](https://huyenchip.com/ml-interviews-book/contents/) in preparation for my interviews."
   ],
   "metadata": {}
  },
  {
   "cell_type": "markdown",
   "source": [
    "## Vectors\r\n",
    "\r\n",
    "1. Dot product\r\n",
    "   1. [E] What’s the geometric interpretation of the dot product of two vectors?\r\n",
    "   2. [E] Given a vector , find vector of unit length such that the dot product of u and v is maximum.\r\n",
    "2. Outer product\r\n",
    "   1. [E] Given two vectors a=[3,2,1] and b=[-1,0,1]. Calculate the outer product $a^T b$?\r\n",
    "   2. [M] Give an example of how the outer product can be useful in ML.\r\n",
    "   3. [E] What does it mean for two vectors to be linearly independent?\r\n",
    "3. [M] Given two sets of vectors $A = a_1, a_2, ..., a_n$ and $B = b_1, b_2, ..., b_n$. How do you check that they share the same basis?\r\n",
    "4. [M] Given n vectors, each of d dimensions. What is the dimension of their span?\r\n",
    "5. Norms and metrics\r\n",
    "   1. [E] What's a norm? What is $L_0, L_1, L_2, L_{norm}$?\r\n",
    "   2. [M] How do norm and metric differ? Given a norm, make a metric. Given a metric, can we make a norm?"
   ],
   "metadata": {}
  },
  {
   "cell_type": "code",
   "execution_count": 2,
   "source": [
    "import numpy as np\r\n",
    "import matplotlib.pyplot as plt\r\n",
    "\r\n",
    "print(\"\"\"1.1 Dot product finds the length of the projection of x onto y\r\n",
    "\"\"\")\r\n",
    "\r\n",
    "num_iter = 3\r\n",
    "\r\n",
    "fig, axs = plt.subplots(1,num_iter)\r\n",
    "for seed, ax in zip(range(num_iter), axs):\r\n",
    "    np.random.seed(seed)\r\n",
    "    \r\n",
    "    n=2\r\n",
    "    x = np.random.uniform(0,1,n)\r\n",
    "    y = np.random.uniform(0,1,n)\r\n",
    "\r\n",
    "    # Dot product finds the length of the projection of x onto y\r\n",
    "    dot = np.sum(x.T*y) # or  np.dot(x,y)\r\n",
    "\r\n",
    "    x_mag = np.sqrt(np.sum(np.square(x)))\r\n",
    "    y_mag = np.sqrt(np.sum(np.square(y)))\r\n",
    "    angle = np.arccos(dot / (x_mag * y_mag)) * 360 / (2 * np.pi)\r\n",
    "\r\n",
    "    ax.plot([0,x[0]], [0,x[1]], label='x')\r\n",
    "    ax.plot([0,y[0]], [0,y[1]], label='y')\r\n",
    "    ax.set_title(f\"Dot:{round(dot,2)}, angle:{round(angle,2)}\")\r\n",
    "\r\n",
    "handles, labels = ax.get_legend_handles_labels()\r\n",
    "\r\n",
    "fig.legend(handles, labels, loc='center right')\r\n",
    "plt.tight_layout()\r\n",
    "plt.show()\r\n",
    "\r\n",
    "print(\"\"\"1.2 The maximum dot product is found when the lines are parallel.\r\n",
    "\"\"\")\r\n",
    "\r\n",
    "\r\n",
    "print(\"\"\"2.1 Calculate elementwise product (notated with \"X⊗Y\")\r\n",
    "\"\"\")\r\n",
    "x = np.array([3,2,1])\r\n",
    "y = np.array([-1,0,1])\r\n",
    "print('x', x), print('y', y)\r\n",
    "print('X⊗Y =', np.multiply.outer(x.T,y))\r\n",
    "\r\n",
    "print(\"\"\"2.2 Cross products can be used to analyze pairwise correlations\r\n",
    "\"\"\")\r\n",
    "\r\n",
    "print(\"\"\"3. Linearly independent vectors have dot(x,y)=0 because angle=90. In terms of eigenvectors/eigenvalues, if the eigenvalue of the matrix is zero, the eigenvector is linearly dependent.\r\n",
    "\"\"\")\r\n",
    "\r\n",
    "import numpy as np\r\n",
    "\r\n",
    "matrix = np.array(\r\n",
    "    [\r\n",
    "        [0, 1 ,0 ,0],\r\n",
    "        [0, 0, 1, 0],\r\n",
    "        [0, 1, 1, 0],\r\n",
    "        [1, 0, 0, 1]\r\n",
    "    ])\r\n",
    "\r\n",
    "lambdas, V =  np.linalg.eig(matrix.T)\r\n",
    "# The linearly dependent row vectors \r\n",
    "print(\"Dependent: \", matrix[lambdas == 0,:])\r\n",
    "\r\n",
    "print(\"4. \")\r\n",
    "\r\n",
    "print(\"5. \")\r\n",
    "\r\n",
    "x = np.random.uniform(0,1,100)\r\n",
    "    \r\n",
    "ps = list(range(1,15))\r\n",
    "vals = []\r\n",
    "for p in ps:\r\n",
    "    vals.append(np.sum(x**p)**(1/p))\r\n",
    "\r\n",
    "plt.plot(ps,vals)\r\n",
    "plt.show()\r\n"
   ],
   "outputs": [
    {
     "output_type": "stream",
     "name": "stdout",
     "text": [
      "1.1 Dot product finds the length of the projection of x onto y\n",
      "\n"
     ]
    },
    {
     "output_type": "display_data",
     "data": {
      "image/png": "[encoded data removed]",
      "text/plain": [
       "<Figure size 432x288 with 3 Axes>"
      ]
     },
     "metadata": {
      "needs_background": "light"
     }
    },
    {
     "output_type": "stream",
     "name": "stdout",
     "text": [
      "1.2 The maximum dot product is found when the lines are parallel.\n",
      "\n",
      "2.1 Calculate elementwise product (notated with \"X⊗Y\")\n",
      "\n",
      "x [3 2 1]\n",
      "y [-1  0  1]\n",
      "X⊗Y = [[-3  0  3]\n",
      " [-2  0  2]\n",
      " [-1  0  1]]\n",
      "2.2 Cross products can be used to analyze pairwise correlations\n",
      "\n",
      "3. Linearly independent vectors have dot(x,y)=0 because angle=90. In terms of eigenvectors/eigenvalues, if the eigenvalue of the matrix is zero, the eigenvector is linearly dependent.\n",
      "\n",
      "Dependent:  [[0 1 1 0]]\n",
      "4. \n",
      "5. \n"
     ]
    },
    {
     "output_type": "display_data",
     "data": {
      "image/png": "[encoded data removed]",
      "text/plain": [
       "<Figure size 432x288 with 1 Axes>"
      ]
     },
     "metadata": {
      "needs_background": "light"
     }
    }
   ],
   "metadata": {}
  },
  {
   "cell_type": "markdown",
   "source": [
    "Summary of ML implementations on Kaggle: https://www.kaggle.com/shivamb/data-science-glossary-on-kaggle\r\n"
   ],
   "metadata": {}
  }
 ],
 "metadata": {
  "orig_nbformat": 4,
  "language_info": {
   "name": "python",
   "version": "3.8.5",
   "mimetype": "text/x-python",
   "codemirror_mode": {
    "name": "ipython",
    "version": 3
   },
   "pygments_lexer": "ipython3",
   "nbconvert_exporter": "python",
   "file_extension": ".py"
  },
  "kernelspec": {
   "name": "python3",
   "display_name": "Python 3.8.5 64-bit ('base': conda)"
  },
  "interpreter": {
   "hash": "d68cb6e2fa6c6235e1c177245b5b978609c8de5c8598db0334f33922eb56994c"
  }
 },
 "nbformat": 4,
 "nbformat_minor": 2
}