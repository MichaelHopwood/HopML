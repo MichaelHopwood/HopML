{
 "cells": [
  {
   "cell_type": "markdown",
   "metadata": {},
   "source": [
    "# Inversion method\r\n",
    "\r\n",
    "Probability integral transform is useful in statistics for checking goodness of fit of a distribution to a set of data while the inverse method is used for simulation.\r\n",
    "\r\n",
    "## **Probability integral transfrom**\r\n",
    "\r\n",
    "🔴 For GOODNESS OF FIT 🔴\r\n",
    "\r\n",
    "Data values that are modeled on being R.V. from any given distribution can be converted to a R.V. having uniform distribution. Let $X \\sim F_X(x)$ define a transformation where $Y = F_X(X) \\in [0,1]$. So, $X = F_X^{-1}(y)$, then $Y$ is uniform over $[0,1]$, i.e. $Y \\sim Unif(0,1)$.\r\n",
    "\r\n",
    "This result can be summarized as:\r\n",
    "\r\n",
    "**Theorem:** if X has CDF F, then F(x) has unif(0,1) distribution.\r\n",
    "\r\n",
    "**Proof:**\r\n",
    "\r\n",
    "$$F_y(y) = P(Y<=y) = P(F_x(x) <= y) = P(x <= F_x^{-1}(y)) = F_x(F_x^{-1}(y)) = y$$\r\n",
    "\r\n",
    "So, $F_y(y) = P(Y<=y) = y$, then $Y \\sim Unif(0,1)$.\r\n",
    "\r\n",
    "## **Inverse probability integral transform**\r\n",
    "\r\n",
    "🔴 For SIMULATION OF R.V.🔴\r\n",
    "\r\n",
    "Here, we start from $Unif(0,1)$ and going to $Y = F_X(x)$. This is helpful because it's easy to get a $Unif(0,1)$. From here, you can get a more complicated solution.\r\n",
    "\r\n",
    "*Start from the uniform distribution and do the inverse procedure*\r\n",
    "\r\n",
    "**Theorem:** suppose $X \\sim U(0,1)$, i.e. $F_X(x) = x$, $\\forall x \\in [0,1]$. Let $Y = F^{-1}(x)$, then $X = F(y)$, where $F(\\cdot)$ is a non-decreasing absolutely continuous function, then $Y$ has the CDF corresponding to $F$.\r\n",
    "\r\n",
    "**Proof:**\r\n",
    "\r\n",
    "Need to prove that $F_Y(y) = F(y)$.\r\n",
    "\r\n",
    "$$F_Y(y) = P(Y <= y) = P(F^{-1}(x) <= y) = P(x <= F(y)) = F(y)$$\r\n",
    "\r\n",
    "\r\n",
    "## **Inversion method**\r\n",
    "\r\n",
    "Suppose we want to simulate $X$ whose distribution has a given CDF, $F$. If $F$ is continuous and strictly increasing, then $F^{-1}$ exists. Now, sampling $U \\sim Unif(0,1)$ and setting $X = F^{-1}(u)$ does the job. This means that if $X$ has CDF $F$, then $F^{-1}(u)$ will have CDF $F$, so if you are able to calculate $F^{-1}$, and can gather uniform, then you can generate a sample from $F$.\r\n"
   ]
  }
 ],
 "metadata": {
  "kernelspec": {
   "display_name": "Python 3.6.8 64-bit",
   "name": "python368jvsc74a57bd07c28e26739430500fec97d508cbac2e5d4a112deb445b412c4e69aa96f605479"
  },
  "language_info": {
   "name": "python",
   "version": ""
  },
  "orig_nbformat": 2
 },
 "nbformat": 4,
 "nbformat_minor": 2
}