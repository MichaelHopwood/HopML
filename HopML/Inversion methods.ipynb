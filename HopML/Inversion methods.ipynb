{
 "cells": [
  {
   "cell_type": "markdown",
   "metadata": {},
   "source": [
    "# Inversion method\r\n",
    "\r\n",
    "Probability integral transform is useful in statistics for checking goodness of fit of a distribution to a set of data while the inverse method is used for simulation.\r\n",
    "\r\n",
    "## **Probability integral transfrom**\r\n",
    "\r\n",
    "🔴 For GOODNESS OF FIT 🔴\r\n",
    "\r\n",
    "Data values that are modeled on being R.V. from any given distribution can be converted to a R.V. having uniform distribution. Let $X \\sim F_X(x)$ define a transformation where $Y = F_X(X) \\in [0,1]$. So, $X = F_X^{-1}(y)$, then $Y$ is uniform over $[0,1]$, i.e. $Y \\sim Unif(0,1)$.\r\n",
    "\r\n",
    "This result can be summarized as:\r\n",
    "\r\n",
    "**Theorem:** if X has CDF F, then F(x) has unif(0,1) distribution.\r\n",
    "\r\n",
    "**Proof:**\r\n",
    "\r\n",
    "$$F_y(y) = P(Y<=y) = P(F_x(x) <= y) = P(x <= F_x^{-1}(y)) = F_x(F_x^{-1}(y)) = y$$\r\n",
    "\r\n",
    "So, $F_y(y) = P(Y<=y) = y$, then $Y \\sim Unif(0,1)$.\r\n",
    "\r\n",
    "## **Inverse probability integral transform**\r\n",
    "\r\n",
    "🔴 For SIMULATION OF R.V.🔴\r\n",
    "\r\n",
    "Here, we start from $Unif(0,1)$ and going to $Y = F_X(x)$. This is helpful because it's easy to get a $Unif(0,1)$. From here, you can get a more complicated solution.\r\n",
    "\r\n",
    "*Start from the uniform distribution and do the inverse procedure*\r\n",
    "\r\n",
    "**Theorem:** suppose $X \\sim U(0,1)$, i.e. $F_X(x) = x$, $\\forall x \\in [0,1]$. Let $Y = F^{-1}(x)$, then $X = F(y)$, where $F(\\cdot)$ is a non-decreasing absolutely continuous function, then $Y$ has the CDF corresponding to $F$.\r\n",
    "\r\n",
    "**Proof:**\r\n",
    "\r\n",
    "Need to prove that $F_Y(y) = F(y)$.\r\n",
    "\r\n",
    "$$F_Y(y) = P(Y <= y) = P(F^{-1}(x) <= y) = P(x <= F(y)) = F(y)$$\r\n",
    "\r\n",
    "\r\n",
    "## **Inversion method**\r\n",
    "\r\n",
    "Suppose we want to simulate $X$ whose distribution has a given CDF, $F$. If $F$ is continuous and strictly increasing, then $F^{-1}$ exists. Now, sampling $U \\sim Unif(0,1)$ and setting $X = F^{-1}(u)$ does the job. This means that if $X$ has CDF $F$, then $F^{-1}(u)$ will have CDF $F$, so if you are able to calculate $F^{-1}$, and can gather uniform, then you can generate a sample from $F$.\r\n",
    "\r\n",
    "### Example 1: Generate a random sample of a distribution with $F(x) = x / (1 + x)$.\r\n",
    "\r\n",
    "To get F^{-1}(y), specify a value for y and solve for x.  \r\n",
    "\r\n",
    "$$y = x / (1 + x)$$\r\n",
    "\r\n",
    "$$x = y / (1 - y)$$\r\n",
    "\r\n",
    "So, $F^{-1}(y) = y / (1 - y)$. This means that $u / (1 - u)$ will have CDF $F$. Therefore, the algorithm is:\r\n",
    "\r\n",
    "1. Generate uniform distribution, $ U \\sim Unif(0,1)$\r\n",
    "\r\n",
    "2. Set $x = u / (1 - u)$\r\n",
    "\r\n",
    "3. Conduct this multiple times to sample the distribution\r\n"
   ]
  },
  {
   "cell_type": "code",
   "execution_count": 1,
   "metadata": {},
   "outputs": [
    {
     "data": {
      "text/plain": "array([0.04534629, 3.01085051, 1.5129445 , 0.91597012, 0.76244358,\n       0.02943758, 2.36162726, 0.09448524, 0.03112536, 0.20471058])"
     },
     "execution_count": 1,
     "metadata": {},
     "output_type": "execute_result"
    }
   ],
   "source": [
    "import numpy as np\r\n",
    "\r\n",
    "u = np.random.uniform(0, 1, 10)\r\n",
    "\r\n",
    "# samples\r\n",
    "u / (1 - u)\r\n"
   ]
  },
  {
   "cell_type": "markdown",
   "metadata": {},
   "source": [
    "## Example 2: Generate random sample of exponential distribution with rate $\\lambda$\r\n",
    "\r\n",
    "We know $f(x) = \\lambda \\exp{-\\lambda x}$ where $x \\geq 0$. Therefore, $F(x) = 1 - \\exp{-\\lambda x}$.\r\n",
    "\r\n",
    "To calculate $F^{-1}(y), specify a value for $y$ and solve for $x$.\r\n",
    "\r\n",
    "$$y = 1 - \\exp{- \\lambda x}$$\r\n",
    "\r\n",
    "$$x = \\frac{-1}{\\lambda} \\log (1 - y)$$\r\n",
    "\r\n",
    "Therefore, $x = F^{-1}(y) = - \\frac{1}{\\lambda} \\log (1 - y)$.\r\n",
    "\r\n",
    "This means that if $U \\in [0,1]$, then $F^{-1}(U) = -\\frac{1}{\\lambda} \\log (1 - U) \\sim Exp(\\lambda)$\r\n",
    "\r\n",
    "To generate samples, \r\n",
    "\r\n",
    "1. Sample $U \\sim Unif(0,1)$\r\n",
    "\r\n",
    "2. Set $x = -\\frac{1}{\\lambda} \\log(1 - u)$\r\n",
    "\r\n"
   ]
  },
  {
   "cell_type": "code",
   "execution_count": 2,
   "metadata": {},
   "outputs": [
    {
     "data": {
      "text/plain": "array([8.98422957, 0.56838893, 0.54596155, 0.79989302, 3.12149123,\n       0.09051849, 0.0427881 , 1.34168063, 7.77480753, 1.40375318])"
     },
     "execution_count": 2,
     "metadata": {},
     "output_type": "execute_result"
    }
   ],
   "source": [
    "import numpy as np\r\n",
    "\r\n",
    "u = np.random.uniform(0, 1, 10)\r\n",
    "\r\n",
    "lambd = 0.3\r\n",
    "\r\n",
    "# samples\r\n",
    "- (1 / lambd) * np.log(1 - u)"
   ]
  },
  {
   "cell_type": "markdown",
   "metadata": {},
   "source": [
    "## Example 3: Generate random sample of the (standard) normal distribution\r\n",
    "\r\n",
    "We know $f(x) = \\frac{1}{\\sqrt{2\\pi}} \\exp{ - \\frac{x^2}{2} }$, where $-\\infty < x < \\infty$\r\n",
    "\r\n",
    "The CDF $F(x)$ does not have a closed form. \r\n",
    "\r\n",
    "$$\\Phi (x) = \\int_{-\\int}^x \\frac{1}{\\sqrt{2\\pi}} \\exp{ - \\frac{x^2}{2} } dx$$\r\n",
    "\r\n",
    "In many cases, you cannot invert the CDF (i.e. normal distribution, t-distribution)\r\n",
    "\r\n",
    "A normal R.V. can, in principle, can be generated using the inversion method. However, this requires evaluations of the standard normal inverse CDF, which is a non-trivial calculation. There `are ways <https://stats.stackexchange.com/questions/16334/how-to-sample-from-a-normal-distribution-with-known-mean-and-variance-using-a-co>`_ of sampling this distribution."
   ]
  },
  {
   "cell_type": "markdown",
   "metadata": {},
   "source": [
    "## 3. Transformation Methods\r\n",
    "\r\n",
    "This is the case where distribution $F$ is linked in a simple way to another distribution easy to simulate.\r\n",
    "\r\n",
    "### Sampling normal RVs\r\n",
    "\r\n",
    "There are a number of fast and efficient alternatives for generating normal RVs. \r\n",
    "\r\n",
    "#### **Box-Muller algorithm**\r\n",
    "\r\n",
    "![box-muller](_static//box-muller.png)\r\n",
    "\r\n",
    "Box-Muller is based on some trigonometric transformations.\r\n",
    "\r\n",
    "This method generates a pair of normal RVs $X$ and $Y$. Let $X \\sim N(0,1)$ and $Y \\sim N(0,1)$ be independent. Box-Muller sampling is based on representing the joint distribution of 2 independent standard normal variables in polar coordinates. The joint distribtion $p(x,y)$ which is circular-symmetric is \r\n",
    "\r\n",
    "$$p(x,y) = p(x) \\times p(y) = (\\frac{1}{\\sqrt{2\\pi}} \\exp{ -\\frac{x^2}{2} })(\\frac{1}{\\sqrt{2\\pi}} \\exp{ -\\frac{y^2}{2} })$$\r\n",
    "\r\n",
    "$$ = \\frac{1}{2\\pi} \\exp{ - (x^2 + y^2) / 2} = \\frac{1}{2\\pi} \\exp{ -r^2 / 2}$$\r\n",
    "\r\n",
    "where $r^2 = x^2 + y^2$. Therefore, \r\n",
    "\r\n",
    "$$p(r, \\theta) = \\frac{1}{2\\pi} \\exp{ -r^2 / 2 }$$\r\n",
    "\r\n",
    "is the joint density of $r^2 \\sim \\chi_2^2$ (or $\\exp{ 1/2}$) and $\\theta \\sim Unif(0, 2\\pi)$.\r\n",
    "\r\n",
    "This is because: $x^2 \\sim \\chi_1^2$, $y^2 \\sim \\chi_1^2$, x and y are independent. Therefore, $x^2 + y^2 \\sim \\chi_2^2$\r\n",
    "\r\n",
    "It follows that normal RVs can be generated from $\\chi^2$ and uniform. \r\n",
    "\r\n",
    "If $X \\sim N(0,1)$, $Y \\sim N(0,1)$ and independent, then \r\n",
    "\r\n",
    "$$X^2 + Y^2 = -2 \\log{ U_1} \\sim \\chi_2^2$$\r\n",
    "\r\n",
    "where $U_1 \\sim Unif(0,1)$.\r\n",
    "\r\n",
    "$- \\log {x}$ comes from the inverse of the exponential distribution.\r\n",
    "\r\n",
    "#### Question: Given that $x^2 + y^2 = -2 \\log{U_1}$, how do we find X and Y?\r\n",
    "\r\n",
    "Define $\\theta$ as a random angle between $X$ and $r$ where $r^2 = x^2 + y^2$. Then, $\\theta \\sim Unif(0, 2\\pi)$.\r\n",
    "\r\n",
    "![box-muller-coordinates](_static//box_muller_coordinates.png)\r\n",
    "\r\n",
    "$$x = r \\cos \\theta = \\sqrt{ -2 \\log U_1 } \\cos (2\\pi U_2)$$\r\n",
    "\r\n",
    "$$y = r \\sin \\theta = \\sqrt{ -2 \\log U_1 } \\sin (2\\pi U_2)$$\r\n",
    "\r\n",
    "where $U_2 = \\frac{\\theta}{2\\pi} \\sim Unif(0,1)$ because as we stated above, $\\theta \\sim Unif(0, 2\\pi)$.\r\n",
    "\r\n",
    "\r\n",
    "**Justification**: Let $x^2 + y^2 = -2 \\log U_1$. Therefore, $u_1 = \\exp{ -\\frac{x^2+y^2}{2} }$. \r\n",
    "\r\n",
    "$$\\tan (2\\pi U_2) = Y / X $$\r\n",
    "\r\n",
    "$$U_2 = \\frac{1}{2\\pi} tan^{-1} (Y/X)$$\r\n",
    "\r\n",
    "The Jacobian of the polar transformation is \r\n",
    "\r\n",
    "$$| \\frac{\\delta (u_1, u_2)}{\\delta{x,y}}| = \\frac{1}{2\\pi} \\exp { - \\frac{x^2 + y^2}{2}}$$\r\n",
    "\r\n",
    "By the formulat for the random vairable transformation, we have\r\n",
    "\r\n",
    "$$f(x,y) = f(u_1, u_2) | \\frac{\\delta (u_1, u_2)}{\\delta{x,y}}| = \\frac{1}{2\\pi} \\exp {-\\frac{1}{2} (x^2 + y^2)}$$\r\n",
    "\r\n",
    "Hence, $X$ and $Y$ are independent N(0,1).\r\n",
    "\r\n",
    "\r\n",
    "**We want to generate a random normal sample. To do this, we simply **\r\n",
    "\r\n",
    "1. Sample $U \\sim Unif(0,1)$ and $V \\sim Unif(0,1)$\r\n",
    "\r\n",
    "2. Set $x = r \\cos \\theta = \\sqrt{ -2 \\log U } \\cos (2\\pi V)$ and $x = r \\cos \\theta = \\sqrt{ -2 \\log U } \\sin (2\\pi V)$\r\n",
    "\r\n",
    "3. Take a linear function to get different mean and variance ($\\mu$, $\\sigma$)\r\n"
   ]
  },
  {
   "cell_type": "code",
   "execution_count": 14,
   "metadata": {},
   "outputs": [
    {
     "data": {
      "image/png": "[encoded data removed]",
      "text/plain": "<Figure size 432x288 with 1 Axes>"
     },
     "metadata": {
      "needs_background": "light"
     },
     "output_type": "display_data"
    }
   ],
   "source": [
    "import numpy as np\r\n",
    "import matplotlib.pyplot as plt\r\n",
    "\r\n",
    "u = np.random.uniform(0,1,1000000)\r\n",
    "v = np.random.uniform(0,1,1000000)\r\n",
    "\r\n",
    "samples = np.sqrt(-2 * np.log(u)) * np.cos(2 * np.pi * v)\r\n",
    "\r\n",
    "plt.hist(samples)\r\n",
    "plt.show()"
   ]
  },
  {
   "cell_type": "markdown",
   "metadata": {},
   "source": [
    "To get a normal distribution, simply evaluate $x = \\mu + z \\sigma \\sim N(\\mu, \\sigma)$."
   ]
  }
 ],
 "metadata": {
  "kernelspec": {
   "display_name": "Python 3.6.8 64-bit",
   "name": "python368jvsc74a57bd07c28e26739430500fec97d508cbac2e5d4a112deb445b412c4e69aa96f605479"
  },
  "language_info": {
   "codemirror_mode": {
    "name": "ipython",
    "version": 3
   },
   "file_extension": ".py",
   "mimetype": "text/x-python",
   "name": "python",
   "nbconvert_exporter": "python",
   "pygments_lexer": "ipython3",
   "version": "3.6.8"
  },
  "orig_nbformat": 2
 },
 "nbformat": 4,
 "nbformat_minor": 2
}