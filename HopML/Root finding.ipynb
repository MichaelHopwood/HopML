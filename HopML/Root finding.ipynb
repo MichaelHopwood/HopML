{
 "cells": [
  {
   "cell_type": "markdown",
   "metadata": {},
   "source": [
    "# Root finding and optimization\n",
    "\n",
    "## Introduction\n",
    "\n",
    "In statistical applications, point estimation problems often boil down to maximize a function according to:\n",
    "\n",
    "* maximize likelihood\n",
    "\n",
    "* least squares\n",
    "\n",
    "* maximum of a posterior distribution (i.e. bayesian)\n",
    "\n",
    "When the function to be optimized is \"smooth\", we can reformulate optimization into a root finding problem.\n",
    "\n",
    "**Trouble:** these problems often have no analytical solution.\n",
    "\n",
    "## General setup\n",
    "\n",
    "We will discuss 2 kinds of problems\n",
    "\n",
    "* Root finding: solve $f(x) = 0$ for $x \\in \\mathbf{R}^d$, $d \\geq 1$\n",
    "\n",
    "* Optimization: maximize $g(x)$ for $x \\in \\mathbf{R}^d$, $d \\geq 1$\n",
    "\n",
    "We will address univariate and multivariate problems cases separately. We will look at methods that construct a sequence $\\{ x_t : t \\geq 0}$ designed to converge (as $t \\xrightarrow{} \\infty$) to the solution, denoted by $x^\\star$.\n",
    "\n",
    "### Theoretical considerations\n",
    "\n",
    "* Under what conditions on $f$ (or $g$) and initial guess $x_0$ can we prove that $x_t \\xrightarrow{} x^\\star$?\n",
    "\n",
    "* If $x_t \\xrightarrow{} x^\\star$, then how fast, i.e. what is its convergence order?\n",
    "\n",
    "### Practical consideration\n",
    "\n",
    "* How to write and implement the algorithm?\n",
    "\n",
    "* Can't run the algorithm till $t = \\infty$, so how to stop?"
   ]
  },
  {
   "cell_type": "markdown",
   "metadata": {},
   "source": [
    "## Univariate problems\n",
    "\n",
    "## Bisection (root-finding)\n",
    "\n",
    "1. Find unique root $x^\\star$ of $f$ in an interval $[a, b]$\n",
    "\n",
    "* $f(a)f(b) \\leq 0$ means a root exists between $a$ and $b$.\n",
    "\n"
   ]
  }
 ],
 "metadata": {
  "kernelspec": {
   "display_name": "Python 3.6.8 64-bit",
   "name": "python368jvsc74a57bd07c28e26739430500fec97d508cbac2e5d4a112deb445b412c4e69aa96f605479"
  },
  "language_info": {
   "name": "python",
   "version": ""
  },
  "orig_nbformat": 2
 },
 "nbformat": 4,
 "nbformat_minor": 2
}
