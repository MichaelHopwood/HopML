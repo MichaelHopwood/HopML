{
 "cells": [
  {
   "cell_type": "markdown",
   "metadata": {},
   "source": [
    "# Root finding and optimization\n",
    "\n",
    "## Introduction\n",
    "\n",
    "In statistical applications, point estimation problems often boil down to maximize a function according to:\n",
    "\n",
    "* maximize likelihood\n",
    "\n",
    "* least squares\n",
    "\n",
    "* maximum of a posterior distribution (i.e. bayesian)\n",
    "\n",
    "When the function to be optimized is \"smooth\", we can reformulate optimization into a root finding problem.\n",
    "\n",
    "**Trouble:** these problems often have no analytical solution.\n",
    "\n",
    "## General setup\n",
    "\n",
    "We will discuss 2 kinds of problems\n",
    "\n",
    "* Root finding: solve $f(x) = 0$ for $x \\in \\mathbf{R}^d$, $d \\geq 1$\n",
    "\n",
    "* Optimization: maximize $g(x)$ for $x \\in \\mathbf{R}^d$, $d \\geq 1$\n",
    "\n",
    "We will address univariate and multivariate problems cases separately. We will look at methods that construct a sequence $\\{ x_t : t \\geq 0 \\}$ designed to converge (as $t \\xrightarrow{} \\infty$) to the solution, denoted by $x^\\star$.\n",
    "\n",
    "### Theoretical considerations\n",
    "\n",
    "* Under what conditions on $f$ (or $g$) and initial guess $x_0$ can we prove that $x_t \\xrightarrow{} x^\\star$?\n",
    "\n",
    "* If $x_t \\xrightarrow{} x^\\star$, then how fast, i.e. what is its convergence order?\n",
    "\n",
    "### Practical consideration\n",
    "\n",
    "* How to write and implement the algorithm?\n",
    "\n",
    "* Can't run the algorithm till $t = \\infty$, so how to stop?"
   ]
  },
  {
   "cell_type": "markdown",
   "metadata": {},
   "source": [
    "## Univariate problems\n",
    "\n",
    "## Bisection (root-finding)\n",
    "\n",
    "1. Find unique root $x^\\star$ of $f$ in an interval $[a, b]$\n",
    "\n",
    "* $f(a)f(b) \\leq 0$ means a root exists between $a$ and $b$ (by the intermediate value theorem).\n",
    "\n",
    "Pick an initial guess $x_0 = \\frac{a + b}{2}$.\n",
    "\n",
    "$x^\\star$ must be in either $[ a, x_0 ]$ or $[ x_0, b ]$\n",
    "\n",
    "Evaluate $f(x)$ at the end points to determine which one. The selected interval, call it $[a_1, b_1]$, is now just like the initial interval. Take $x_1 = \\frac{a_1 + b_1}{2}$. Continue this process to construct a sequence $\\{ x_t : t \\geq 0 \\}$.\n",
    "\n",
    "### Algorithm\n",
    "\n",
    "Assume $f(x)$ and the interval $[a, b]$ are given. \n",
    "\n",
    "1. Set $x = \\frac{a+b}{2}$\n",
    "\n",
    "2. If $f(a)f(b) \\leq 0$, then $b=x$, else $a=x$.\n",
    "\n",
    "3. If \"converged\", then stop; otherwise, return to step 1.\n",
    "\n",
    "The convergence criteria is usually something like $| x_{new} - x_{old} | < \\epsilon$ where $\\epsilon$ is a specified small number (e.g. $\\epsilon = 10^{-8}$).\n",
    "A relative convergence riteria might be better $\\frac{|x_{new} - x_{old}|}{x_{old}} < \\epsilon$.\n",
    "\n",
    "As a reminder, the limit of a sequence is defined by: $\\forall \\epsilon > 0, \\ni N > 0$ s.t. $|U_N - l| < \\epsilon$ where $N \\xrightarrow{} \\infty$ is the number of items in the sequence and $l$ is the value the sequence approaches.\n",
    "\n",
    "**Theorem:** If $f$ is continuous, then $x_t \\xrightarrow{} x^\\star$. \n",
    "\n",
    "Time complexity: $\\log n$"
   ]
  },
  {
   "cell_type": "code",
   "execution_count": 1,
   "metadata": {},
   "outputs": [
    {
     "data": {
      "image/png": "[encoded data removed]",
      "text/plain": [
       "<PIL.PngImagePlugin.PngImageFile image mode=P size=1282x752 at 0x22EF1983550>"
      ]
     },
     "metadata": {},
     "output_type": "display_data"
    }
   ],
   "source": [
    "from utils import disp\n",
    "disp('bisection_method.png')"
   ]
  },
  {
   "cell_type": "markdown",
   "metadata": {},
   "source": [
    "## Newton's method (Newton-Raphson)\n",
    "\n",
    "### Basic idea\n",
    "\n",
    "Newton's method approximates a nonlinear function, which near its root by a linear function, can be solved by hand\n",
    "It is based on Taylor's theorem, which gives the linear approximation of a function $f(x)$ in a neighborhood of some point $x_0$ as \n",
    "\n",
    "$$f(x) \\approx f(x_0) + f^\\prime(x_0) (x - x_0)$$\n",
    "\n",
    "We can set this equal to 0 to solve for $x$\n",
    "\n",
    "$$x = x_0 - \\frac{f(x_0)}{f^\\prime(x_0)}$$\n",
    "\n",
    "### Algorithm - for root finding\n",
    "\n",
    "Assume the function $f(x)$, its derivative $f^\\prime(x)$, and an initial guess are given. \n",
    "\n",
    "* Set $t=0$\n",
    "\n",
    "1. Calculate $x_{t+1} = x_t - \\frac{f(x_t)}{f^\\prime(x_t)}$\n",
    "\n",
    "2. If the convergence criteria is met, then stop; otherwise, set $t \\xleftarrow{} t+1$ and return to step 1.\n",
    "\n",
    "### Warnings\n",
    "\n",
    "Convergence depends on choice of $x_0$ and on $f$\n",
    "\n",
    "Unlike bisection, Newton might not converge.\n",
    "\n",
    "\n",
    "### Newton method theory\n",
    "\n",
    "**Theorem**: If $f^{\\prime\\prime}$ is continuous and $x^\\star$ is a root of $f$, with $f^\\prime(x_0) \\neq 0$, then there exists a neighborhood $N$ of $x^\\star$ s.t. Newton's method converges to $x^\\star$ for any $x_0 \\in N$.\n",
    "\n",
    "The proof uses taylor's approximation. Proof also shows that the convergence order is quadratic.\n",
    "\n",
    "If Newton converges, then its way faster than bisection. But, added speed has a cost. It requires differentiability and the derivative $f^\\prime$. Also, convergence is sensitive to choice of $x_0$.\n"
   ]
  },
  {
   "cell_type": "code",
   "execution_count": 2,
   "metadata": {},
   "outputs": [
    {
     "data": {
      "image/png": "[encoded data removed]",
      "text/plain": [
       "<PIL.PngImagePlugin.PngImageFile image mode=P size=239x211 at 0x22EF1A4D358>"
      ]
     },
     "metadata": {},
     "output_type": "display_data"
    }
   ],
   "source": [
    "disp('newtons_method.png')"
   ]
  },
  {
   "cell_type": "markdown",
   "metadata": {},
   "source": [
    "### Newton algorithm (for optimization)\n",
    "\n",
    "In the context of unconstrained optimization, Newton's method can be used to find the optimum value. Apply the above method to find a root of $g^\\prime(x) = 0$. The algorithm becomes \n",
    "\n",
    "Assume that the 1st derivative $g^\\prime(x)$, its 2nd derivative $g^{\\prime\\prime}(x)$, and an initial guess $x_0$ are given. Set $t=0$,\n",
    "\n",
    "i. Calculate $x_{t+1} = x_t - \\frac{g^\\prime(x_t)}{g^{\\prime\\prime}(x_t)}$\n",
    "\n",
    "ii. If the convergence criteria is met, then stop; otherwise, set $t \\xleftarrow{} t + 1$ and return to step i.\n",
    "\n",
    "**Example:** Find $x^\\star$ to maximize $g(x) = \\frac{\\log x}{1 + x}$, $x \\in [1,5]$.\n",
    "\n",
    "**a. Find root via bisection**\n",
    "\n",
    "\n",
    "\n",
    "**b. Find root via newton's method**"
   ]
  },
  {
   "cell_type": "code",
   "execution_count": 14,
   "metadata": {},
   "outputs": [
    {
     "name": "stderr",
     "output_type": "stream",
     "text": [
      "ipykernel_launcher:5: RuntimeWarning: divide by zero encountered in log\n",
      "ipykernel_launcher:5: RuntimeWarning: divide by zero encountered in log\n",
      "ipykernel_launcher:41: RuntimeWarning: invalid value encountered in double_scalars\n"
     ]
    },
    {
     "data": {
      "text/plain": [
       "(0.9999990463256836, 0.999999999985196, nan)"
      ]
     },
     "execution_count": 14,
     "metadata": {},
     "output_type": "execute_result"
    },
    {
     "data": {
      "image/png": "[encoded data removed]",
      "text/plain": [
       "<Figure size 432x288 with 1 Axes>"
      ]
     },
     "metadata": {
      "needs_background": "light"
     },
     "output_type": "display_data"
    }
   ],
   "source": [
    "import numpy as np\n",
    "from sympy import Symbol, diff\n",
    "\n",
    "def f(x):\n",
    "    return np.log(x) / (x + 1)\n",
    "\n",
    "def fprime(x):\n",
    "    return (1 + x - x * np.log(x)) / (x*(x + 1)**2)\n",
    "\n",
    "def fprimeprime(x):\n",
    "    return ( x * (x+1)**2 * (1+np.log(x)) - (1 + x - x * np.log(x)) * ( x*2*(x+1) + (x+1)**2 * x) ) / (x*(x+1)**3)\n",
    "\n",
    "def bisection_method(f, a, b, epsilon):\n",
    "    \"\"\"\n",
    "    Bisection method for root finding.\n",
    "    \"\"\"\n",
    "    c = (a + b) / 2\n",
    "    while abs(f(c)) > epsilon:\n",
    "        if f(a) * f(c) < 0:\n",
    "            b = c\n",
    "        else:\n",
    "            a = c\n",
    "        c = (a + b) / 2\n",
    "    return c\n",
    "\n",
    "def newtons_method(f, x0, epsilon):\n",
    "    \"\"\"\n",
    "    Newton's method for root finding.\n",
    "    \"\"\"\n",
    "    x = x0\n",
    "    while abs(f(x)) > epsilon:\n",
    "        x = x - f(x) / fprime(x)\n",
    "    return x\n",
    "\n",
    "def secant_method(f, x0, x1, epsilon):\n",
    "    \"\"\"\n",
    "    Secant method for root finding.\n",
    "    \"\"\"\n",
    "    x = x0\n",
    "    while abs(f(x)) > epsilon:\n",
    "        x = x - f(x) * (x - x1) / (f(x) - f(x1))\n",
    "        x1 = x\n",
    "    return x\n",
    "\n",
    "xx = np.linspace(0, 5, 100)\n",
    "import matplotlib.pyplot as plt\n",
    "plt.plot(xx, f(xx))\n",
    "first_pass_idx = np.where(f(xx) > 0)[0][0]\n",
    "plt.plot(xx[first_pass_idx], f(xx[first_pass_idx]), 'ro')\n",
    "plt.annotate(f\"{xx[first_pass_idx]}, {f(xx[first_pass_idx])}\", (xx[first_pass_idx], f(xx[first_pass_idx])))\n",
    "\n",
    "b = bisection_method(f, 0, 5, 1e-6)\n",
    "n = newtons_method(f, 0.5, 1e-6)\n",
    "s = secant_method(f, 0.5, 5, 1e-6)\n",
    "b, n, s\n"
   ]
  },
  {
   "cell_type": "markdown",
   "metadata": {},
   "source": [
    "## Secant method\n",
    "\n",
    "### Basic idea\n",
    "\n",
    "Newton's method requires a formula for $f^\\prime(x)$. To avoid this, approximate $f^\\prime(x)$ at $x_0$ by a difference ratio. That is, recall from calculus that \n",
    "$$f^\\prime(x) \\approx \\frac{f(x+h) - f(x)}{h}$$\n",
    "where $h$ is small and positive.\n",
    "\n",
    "This can also be expressed as\n",
    "$$f^\\prime(x) \\approx \\frac{f(x) - f(x_0)}{x - x_0}$$\n",
    "\n",
    "The secant method follows Newton's method except we substitute a differenceratio for $f^\\prime(x)$. Name is because the linear approximaiton is a secant not a tangent.\n",
    "\n",
    "### Algorithm\n",
    "\n",
    "Suppose $f(x)$ and 2 initial guesses $x_0$ and $x_1$ are given. Set $t=1$.\n",
    "\n",
    "i. Calculate $x_{t+1} = x_t - \\frac{f(x_t)}{\\frac{f(x_t) - f(x_{t-1})}{x_t - x_{t-1}}}$\n",
    "\n",
    "i.e. $x_{t+1} = x_t - f(x_t) \\frac{x_t - x_{t-1}}{f(x_t) - f(x_{t-1})}$\n",
    "\n",
    "If the convergence criteria are satisfied, then stop. Else, set $t\\xleftarrow{} t+1$ and return to step i."
   ]
  }
 ],
 "metadata": {
  "interpreter": {
   "hash": "7c28e26739430500fec97d508cbac2e5d4a112deb445b412c4e69aa96f605479"
  },
  "kernelspec": {
   "display_name": "Python 3.6.8 64-bit",
   "language": "python",
   "name": "python3"
  },
  "language_info": {
   "codemirror_mode": {
    "name": "ipython",
    "version": 3
   },
   "file_extension": ".py",
   "mimetype": "text/x-python",
   "name": "python",
   "nbconvert_exporter": "python",
   "pygments_lexer": "ipython3",
   "version": "3.6.8"
  },
  "orig_nbformat": 2
 },
 "nbformat": 4,
 "nbformat_minor": 2
}
