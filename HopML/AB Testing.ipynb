{
 "cells": [
  {
   "cell_type": "markdown",
   "source": [
    "# A/B Tests\r\n",
    "\r\n",
    "This tutorial is verbatim from **Source:** https://towardsdatascience.com/the-math-behind-a-b-testing-with-example-code-part-1-of-2-7be752e1d06f.\r\n",
    "\r\n",
    "## 1. Set up the experiment\r\n",
    "\r\n",
    "The goal of running an A/B test is **to evaluate if a change in a (say) website will lead to improved performance in a specific metric**. You may decide to test very simple alternatives such as changing the look of a single button on a webpage or testing different layouts and headlines. You could also run an A/B test on multi-step processes which may have many differences. Examples of this include the steps required in signing up a new user or processing the sale on an online marketplace.\r\n",
    "\r\n",
    "### Baseline Conversion Rate and Lift\r\n",
    "\r\n",
    "Before running the test, we will know the baseline conversion rate and the desired lift or increase in signups that we would like to test. The baseline conversion rate is the current rate at which we sign up new users under the existing design. For our example, we want to use our test to confirm that the changes we make to our signup process will result in at least a 2% increase in our sign up rate. We currently sign up 10 out of 100 users who are offered a premium account."
   ],
   "metadata": {}
  },
  {
   "cell_type": "code",
   "execution_count": 15,
   "source": [
    "bcr = 0.10  # baseline conversion rate\r\n",
    "d_hat = 0.02  # difference between the groups"
   ],
   "outputs": [],
   "metadata": {}
  },
  {
   "cell_type": "markdown",
   "source": [
    "### Control Group (A) and Test Group (B)\r\n",
    "\r\n",
    "Typically, the total number of users participating in the A/B test make up a small percentage of the total amount of users. Users are randomly selected and assigned to either a control group or a test group. The sample size that you decide on will determine how long you might have to wait until you have collected enough. For example, websites with large audiences may be able to collect enough data very quickly, while other websites may have to wait a number of weeks. There are some events that happen rarely even for high-traffic websites, so determining the necessary sample size will inform how soon you can assess your experiment and move on to improving other metrics.\r\n",
    "\r\n",
    "Initially, we will collect 1000 users for each group and serve the current signup page to the control group and a new signup page to the test group."
   ],
   "metadata": {}
  },
  {
   "cell_type": "code",
   "execution_count": 16,
   "source": [
    "N_A = 1000 # Number of users in control group\r\n",
    "N_B = 1000 # Number of users in test group"
   ],
   "outputs": [],
   "metadata": {}
  },
  {
   "cell_type": "code",
   "execution_count": 20,
   "source": [
    "import scipy.stats as scs\r\n",
    "import pandas as pd\r\n",
    "import numpy as np\r\n",
    "np.random.seed(2)\r\n",
    "\r\n",
    "\r\n",
    "def generate_data(N_A, N_B, p_A, p_B, days=None, control_label='A',\r\n",
    "                  test_label='B'):\r\n",
    "    \"\"\"Returns a pandas dataframe with fake CTR data\r\n",
    "    Example:\r\n",
    "    Parameters:\r\n",
    "        N_A (int): sample size for control group\r\n",
    "        N_B (int): sample size for test group\r\n",
    "            Note: final sample size may not match N_A provided because the\r\n",
    "            group at each row is chosen at random (50/50).\r\n",
    "        p_A (float): conversion rate; conversion rate of control group\r\n",
    "        p_B (float): conversion rate; conversion rate of test group\r\n",
    "        days (int): optional; if provided, a column for 'ts' will be included\r\n",
    "            to divide the data in chunks of time\r\n",
    "            Note: overflow data will be included in an extra day\r\n",
    "        control_label (str)\r\n",
    "        test_label (str)\r\n",
    "    Returns:\r\n",
    "        df (df)\r\n",
    "    \"\"\"\r\n",
    "\r\n",
    "    # initiate empty container\r\n",
    "    data = []\r\n",
    "\r\n",
    "    # total amount of rows in the data\r\n",
    "    N = N_A + N_B\r\n",
    "\r\n",
    "    # distribute events based on proportion of group size\r\n",
    "    group_bern = scs.bernoulli(N_A / (N_A + N_B))\r\n",
    "\r\n",
    "    # initiate bernoulli distributions from which to randomly sample\r\n",
    "    A_bern = scs.bernoulli(p_A)\r\n",
    "    B_bern = scs.bernoulli(p_B)\r\n",
    "\r\n",
    "    for idx in range(N):\r\n",
    "        # initite empty row\r\n",
    "        row = {}\r\n",
    "        # for 'ts' column\r\n",
    "        if days is not None:\r\n",
    "            if type(days) == int:\r\n",
    "                row['ts'] = idx // (N // days)\r\n",
    "            else:\r\n",
    "                raise ValueError(\"Provide an integer for the days parameter.\")\r\n",
    "        # assign group based on 50/50 probability\r\n",
    "        row['group'] = group_bern.rvs()\r\n",
    "\r\n",
    "        if row['group'] == 0:\r\n",
    "            # assign conversion based on provided parameters\r\n",
    "            row['converted'] = A_bern.rvs()\r\n",
    "        else:\r\n",
    "            row['converted'] = B_bern.rvs()\r\n",
    "        # collect row into data container\r\n",
    "        data.append(row)\r\n",
    "\r\n",
    "    # convert data into pandas dataframe\r\n",
    "    df = pd.DataFrame(data)\r\n",
    "\r\n",
    "    # transform group labels of 0s and 1s to user-defined group labels\r\n",
    "    df['group'] = df['group'].apply(\r\n",
    "        lambda x: control_label if x == 0 else test_label)\r\n",
    "\r\n",
    "    return df"
   ],
   "outputs": [],
   "metadata": {}
  },
  {
   "cell_type": "code",
   "execution_count": 21,
   "source": [
    "ab_data = generate_data(N_A, N_B, bcr, d_hat)\r\n",
    "\r\n",
    "ab_data.head()"
   ],
   "outputs": [
    {
     "output_type": "execute_result",
     "data": {
      "text/html": [
       "<div>\n",
       "<style scoped>\n",
       "    .dataframe tbody tr th:only-of-type {\n",
       "        vertical-align: middle;\n",
       "    }\n",
       "\n",
       "    .dataframe tbody tr th {\n",
       "        vertical-align: top;\n",
       "    }\n",
       "\n",
       "    .dataframe thead th {\n",
       "        text-align: right;\n",
       "    }\n",
       "</style>\n",
       "<table border=\"1\" class=\"dataframe\">\n",
       "  <thead>\n",
       "    <tr style=\"text-align: right;\">\n",
       "      <th></th>\n",
       "      <th>group</th>\n",
       "      <th>converted</th>\n",
       "    </tr>\n",
       "  </thead>\n",
       "  <tbody>\n",
       "    <tr>\n",
       "      <th>0</th>\n",
       "      <td>A</td>\n",
       "      <td>0</td>\n",
       "    </tr>\n",
       "    <tr>\n",
       "      <th>1</th>\n",
       "      <td>B</td>\n",
       "      <td>0</td>\n",
       "    </tr>\n",
       "    <tr>\n",
       "      <th>2</th>\n",
       "      <td>A</td>\n",
       "      <td>0</td>\n",
       "    </tr>\n",
       "    <tr>\n",
       "      <th>3</th>\n",
       "      <td>A</td>\n",
       "      <td>0</td>\n",
       "    </tr>\n",
       "    <tr>\n",
       "      <th>4</th>\n",
       "      <td>A</td>\n",
       "      <td>0</td>\n",
       "    </tr>\n",
       "  </tbody>\n",
       "</table>\n",
       "</div>"
      ],
      "text/plain": [
       "  group  converted\n",
       "0     A          0\n",
       "1     B          0\n",
       "2     A          0\n",
       "3     A          0\n",
       "4     A          0"
      ]
     },
     "metadata": {},
     "execution_count": 21
    }
   ],
   "metadata": {}
  },
  {
   "cell_type": "markdown",
   "source": [
    "\r\n",
    "The generated data has two columns. The converted column indicates whether a user signed up for the premium service or not with a 1 or 0, respectively.\r\n",
    "\r\n",
    "**2. Run the test and record the success rate for each group.**\r\n"
   ],
   "metadata": {}
  },
  {
   "cell_type": "code",
   "execution_count": 22,
   "source": [
    "import numpy as np\r\n",
    "ab_summary = ab_data.pivot_table(values='converted', index='group', aggfunc=np.sum)\r\n",
    "# add additional columns to the pivot table\r\n",
    "ab_summary['total'] = ab_data.pivot_table(values='converted', index='group', aggfunc=lambda x: len(x))\r\n",
    "ab_summary['rate'] = ab_data.pivot_table(values='converted', index='group')\r\n",
    "\r\n",
    "ab_summary"
   ],
   "outputs": [
    {
     "output_type": "execute_result",
     "data": {
      "text/html": [
       "<div>\n",
       "<style scoped>\n",
       "    .dataframe tbody tr th:only-of-type {\n",
       "        vertical-align: middle;\n",
       "    }\n",
       "\n",
       "    .dataframe tbody tr th {\n",
       "        vertical-align: top;\n",
       "    }\n",
       "\n",
       "    .dataframe thead th {\n",
       "        text-align: right;\n",
       "    }\n",
       "</style>\n",
       "<table border=\"1\" class=\"dataframe\">\n",
       "  <thead>\n",
       "    <tr style=\"text-align: right;\">\n",
       "      <th></th>\n",
       "      <th>converted</th>\n",
       "      <th>total</th>\n",
       "      <th>rate</th>\n",
       "    </tr>\n",
       "    <tr>\n",
       "      <th>group</th>\n",
       "      <th></th>\n",
       "      <th></th>\n",
       "      <th></th>\n",
       "    </tr>\n",
       "  </thead>\n",
       "  <tbody>\n",
       "    <tr>\n",
       "      <th>A</th>\n",
       "      <td>114</td>\n",
       "      <td>1070</td>\n",
       "      <td>0.106542</td>\n",
       "    </tr>\n",
       "    <tr>\n",
       "      <th>B</th>\n",
       "      <td>17</td>\n",
       "      <td>930</td>\n",
       "      <td>0.018280</td>\n",
       "    </tr>\n",
       "  </tbody>\n",
       "</table>\n",
       "</div>"
      ],
      "text/plain": [
       "       converted  total      rate\n",
       "group                            \n",
       "A            114   1070  0.106542\n",
       "B             17    930  0.018280"
      ]
     },
     "metadata": {},
     "execution_count": 22
    }
   ],
   "metadata": {}
  },
  {
   "cell_type": "markdown",
   "source": [
    "It looks like the difference in conversion rates between the two groups is 0.028 which is greater than the lift we initially wanted of 0.02. This is a good sign but this is not enough evidence for us to confidently go with the new design. At this point we have not measured how confident we are in this result. This can be mitigated by looking at the distributions of the two groups."
   ],
   "metadata": {}
  },
  {
   "cell_type": "markdown",
   "source": [
    "\r\n",
    "\r\n",
    "**3. Plot the distribution of the difference between the two samples.**\r\n",
    "\r\n",
    "\r\n",
    "**4. Calculate the statistical power.**\r\n",
    "\r\n",
    "\r\n",
    "**5. Evaluate how sample size affects A/B tests.**\r\n",
    "\r\n",
    "\r\n"
   ],
   "metadata": {}
  }
 ],
 "metadata": {
  "orig_nbformat": 4,
  "language_info": {
   "name": "python",
   "version": "3.6.8",
   "mimetype": "text/x-python",
   "codemirror_mode": {
    "name": "ipython",
    "version": 3
   },
   "pygments_lexer": "ipython3",
   "nbconvert_exporter": "python",
   "file_extension": ".py"
  },
  "kernelspec": {
   "name": "python3",
   "display_name": "Python 3.6.8 64-bit"
  },
  "interpreter": {
   "hash": "7c28e26739430500fec97d508cbac2e5d4a112deb445b412c4e69aa96f605479"
  }
 },
 "nbformat": 4,
 "nbformat_minor": 2
}