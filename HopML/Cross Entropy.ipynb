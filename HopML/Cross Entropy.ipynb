{
 "cells": [
  {
   "cell_type": "markdown",
   "metadata": {},
   "source": [
    "# Cross Entropy\n",
    "\n",
    "## Negative log likelihood\n",
    "\n",
    "Likelihood refers to the chances of some calculated parameters producing some known data. In ML, the parameters are updated to fit a static dataset. \n",
    "\n",
    "Cost function that is used as loss for machine learning classification models (the lower the better). We use NEGATIVE because most ML frameworks only have minimization optimization functionality.\n",
    "\n",
    "We take $\\ln$ because it's cleaner to use when have high or low numbers.\n",
    "\n",
    "The output of a classification problem is usually a probability vector. For example, \n",
    "\n",
    "$$\\hat{p} = [0.1,0.3,0.5,0.1]$$\n",
    "\n",
    "If the correct answer is the fourth class $y = [0,0,0,1]$, the likelihood of the current state of the model producing the input is:\n",
    "\n",
    "$$L = \\hat{p} y^T = 0.1$$\n",
    "\n",
    "Therefore, $-\\ln(0.1) = 2.3$\n",
    "\n",
    "If the correct category would have been the third class $y = [0,0,1,0]$, the likelihood would be\n",
    "\n",
    "$$L = 0.5$$\n",
    "\n",
    "Therefore $-\\ln(0.5) = 0.69$. \n",
    "\n",
    "**The better the prediction, the lower the number!**\n"
   ]
  }
 ],
 "metadata": {
  "interpreter": {
   "hash": "7c28e26739430500fec97d508cbac2e5d4a112deb445b412c4e69aa96f605479"
  },
  "kernelspec": {
   "display_name": "Python 3.6.8 64-bit",
   "name": "python3"
  },
  "language_info": {
   "name": "python",
   "version": "3.6.8"
  },
  "orig_nbformat": 4
 },
 "nbformat": 4,
 "nbformat_minor": 2
}
