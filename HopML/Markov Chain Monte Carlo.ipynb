{
 "cells": [
  {
   "cell_type": "markdown",
   "source": [
    "# Markov Chain Monte Carlo\r\n",
    "\r\n",
    "Used when you do not have independence in samples. The **markov property** looks at the most previous sample to help inform the next sample!\r\n",
    "\r\n",
    "This is a stochastic process. Other processes like this are q-theory, brownian motion, and poisson process.\r\n",
    "\r\n",
    "Monte carlo uses these simulated R.V.s to approximate integrals, etc. but the R.V. don't need to be independent in order to approximate integrals. MCMC constructs a dependent sequence of RV that can be used to approximate the integrals like the ordinary MC. The advantages of introducing this dependence is that very general \"black box\" algorithms (and corresponding theory) are available to perform the required simulations. This page will discuss some basics of Markov chains and MCMC but know that there are very important unanswered questions about how and when MCMC works.\r\n",
    "\r\n",
    "## Definition\r\n",
    "\r\n",
    "A markov chain is just a sequence of R.V. $\\{ x_1, x_2, ... \\}$ with a specific type of dependence structure. \r\n",
    "In particular, a Markov chain satisfies \r\n",
    "\r\n",
    "$$P(X_{n+1} \\in B | X_1, ..., X_{n-1}, X_n) = P(X_{n+1} \\in B | X_n)$$\r\n",
    "\r\n",
    "where $X_{n+1}$ is the cuture, $X_1, ..., X_{n-1}$ is the past, and $X_n$ is the present.\r\n",
    "Therefore, this property states that the future is only dependent on the present.\r\n",
    "This is called the *markov property*.\r\n",
    "\r\n",
    "Independence is a trivial Markov Chain.\r\n",
    "\r\n",
    "From the markov property, we can argue that the probabilistic properties of the chain are completely determined by \r\n",
    "\r\n",
    "i. initial distribution for $X_0$\r\n",
    "\r\n",
    "ii. the transition distribution, i.e. distribution of $X_{n+1}$ given $X_n$\r\n",
    "\r\n",
    "Note: Assume that the markov chain is homogeneous (aka, the transition distribution does not depend on $n$). \r\n",
    "\r\n",
    "Example: **simple random walk**\r\n",
    "Let $v_1, v_2, ...$ be iid $\\sim Unif(-1,1)$\r\n",
    "\r\n",
    "Set $x_0 = 0$ and $X_n = \\sum_{i=1}^n U_i = X_{n-1} + U_n$.\r\n",
    "The initial distribution is $P(X_0 = 0) = 1$.\r\n",
    "The transition distribution is determined by $$x_n = \\begin{cases} \r\n",
    "x_{n-1}-1 & prob.= 1/2\\\\\r\n",
    "x_{n-1}+1 & prob.= 1/2\\\\\r\n",
    "\\end{cases}$$\r\n",
    "\r\n",
    "While very simple, the random walk is an important example in probability theory, having connections to advanced things like Brownian Motion. In some conditions, random walk becomes brownian motion."
   ],
   "metadata": {}
  },
  {
   "cell_type": "code",
   "execution_count": 1,
   "source": [
    "import numpy as np\r\n",
    "\r\n",
    "# Task: predict next number\r\n",
    "\r\n",
    "# Sample set 1: \r\n",
    "X = np.array([0,1,2,3,4,5,6,7,8,9]*100 + [3])\r\n",
    "\r\n",
    "total_count_dict = {}\r\n",
    "dependent_count_dict = {}\r\n",
    "for i in range(len(X)-1):\r\n",
    "\r\n",
    "    if X[i] not in total_count_dict:\r\n",
    "        total_count_dict[X[i]] = 0\r\n",
    "    total_count_dict[X[i]] += 1\r\n",
    "    \r\n",
    "    if X[i] not in dependent_count_dict:\r\n",
    "        dependent_count_dict[X[i]] = {}\r\n",
    "    if X[i+1] not in dependent_count_dict[X[i]]:\r\n",
    "        dependent_count_dict[X[i]][X[i+1]] = 0\r\n",
    "    dependent_count_dict[X[i]][X[i+1]] += 1\r\n",
    "\r\n",
    "# Normalize each value in dependent_count_dict by total_count_dict\r\n",
    "for k,d in dependent_count_dict.items():\r\n",
    "    for key in d.keys():\r\n",
    "        d[key] /= total_count_dict[k]\r\n",
    "\r\n",
    "print(\"Transition Matrix:\")\r\n",
    "dependent_count_dict"
   ],
   "outputs": [
    {
     "output_type": "stream",
     "name": "stdout",
     "text": [
      "Transition Matrix:\n"
     ]
    },
    {
     "output_type": "execute_result",
     "data": {
      "text/plain": [
       "{0: {1: 1.0},\n",
       " 1: {2: 1.0},\n",
       " 2: {3: 1.0},\n",
       " 3: {4: 1.0},\n",
       " 4: {5: 1.0},\n",
       " 5: {6: 1.0},\n",
       " 6: {7: 1.0},\n",
       " 7: {8: 1.0},\n",
       " 8: {9: 1.0},\n",
       " 9: {0: 0.99, 3: 0.01}}"
      ]
     },
     "metadata": {},
     "execution_count": 1
    }
   ],
   "metadata": {}
  },
  {
   "cell_type": "markdown",
   "source": [
    "## Brownian Motion\r\n",
    "\r\n",
    "Multiple plays - i.e. Gambler's ruin problem."
   ],
   "metadata": {}
  },
  {
   "cell_type": "markdown",
   "source": [
    "## Discrete time Markov Chain (DTMC)\r\n",
    "\r\n",
    "$P(X_{n+1}=j | X_n = i, X_{n-1}, ..., X_1, X_0) = P(X_{n+1}=j|X_n=i)$\r\n",
    "\r\n",
    "(Markov property for DTMC)\r\n",
    "\r\n",
    "If we have a homogeneous MC, then $P(X_{n+1}=j | X_n =i) = p_{ij} = P(X_1 = j|X_0 = i) = P(X_2=j | X_1 = i) = P(X_3=j|X_2=i) = ...$\r\n",
    "\r\n",
    "We can put the $P_{ij}$ in a matrix over the state space $S = \\{ 1, 2, ..., m \\}$ into a transition matrix: \r\n",
    "\r\n",
    "$$\r\n",
    "P = \\begin{bmatrix}\r\n",
    "p_{11} & p_{12} & ... & p_{1m}\\\\\r\n",
    "p_{21} & p_{22} & ... & p_{2m}\\\\\r\n",
    "\\vdots &&&\\\\\r\n",
    "p_{m1} & p_{m2} & ... & p_{mm}\\\\\r\n",
    "\\end{bmatrix}\r\n",
    "$$\r\n",
    "\r\n",
    "To describe completely a DTMC, we need $X_0$ (the initial state) and $P$ (transition probabilities).\r\n",
    "\r\n",
    "Example: Two-state DTMC\r\n",
    "\r\n",
    "$S = \\{ 1, 2 \\}$  and $P = \\begin{bmatrix} \\alpha&1-\\alpha\\\\ 1-\\beta&\\beta\\\\ \\end{bmatrix}$\r\n",
    "\r\n",
    "where $0 < \\alpha$ and $\\beta < 1$\r\n",
    "\r\n",
    "$p_{11} = \\alpha = P(X_1=1 | X_0 = 1)$"
   ],
   "metadata": {}
  }
 ],
 "metadata": {
  "orig_nbformat": 4,
  "language_info": {
   "name": "python",
   "version": "3.6.8",
   "mimetype": "text/x-python",
   "codemirror_mode": {
    "name": "ipython",
    "version": 3
   },
   "pygments_lexer": "ipython3",
   "nbconvert_exporter": "python",
   "file_extension": ".py"
  },
  "kernelspec": {
   "name": "python3",
   "display_name": "Python 3.6.8 64-bit"
  },
  "interpreter": {
   "hash": "7c28e26739430500fec97d508cbac2e5d4a112deb445b412c4e69aa96f605479"
  }
 },
 "nbformat": 4,
 "nbformat_minor": 2
}