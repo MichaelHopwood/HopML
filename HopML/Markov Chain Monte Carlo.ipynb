{
 "cells": [
  {
   "cell_type": "markdown",
   "source": [
    "# Markov Chain Monte Carlo\r\n",
    "\r\n",
    "Used when you do not have independence in samples. The **markov property** looks at the most previous sample to help inform the next sample!\r\n",
    "\r\n",
    "This is a stochastic process. Other processes like this are q-theory, brownian motion, and poisson process.\r\n",
    "\r\n"
   ],
   "metadata": {}
  }
 ],
 "metadata": {
  "orig_nbformat": 4,
  "language_info": {
   "name": "python",
   "version": "3.6.8"
  },
  "kernelspec": {
   "name": "python3",
   "display_name": "Python 3.6.8 64-bit"
  },
  "interpreter": {
   "hash": "7c28e26739430500fec97d508cbac2e5d4a112deb445b412c4e69aa96f605479"
  }
 },
 "nbformat": 4,
 "nbformat_minor": 2
}