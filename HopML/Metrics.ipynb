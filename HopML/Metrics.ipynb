{
 "cells": [
  {
   "cell_type": "markdown",
   "source": [
    "# Metrics\r\n",
    "\r\n",
    "## Linear Models\r\n",
    "\r\n",
    "We need to check the assumptions of the linear model before using the model. This process is called regression diagnostics. We divide the potential problems into the following categories.\r\n",
    "\r\n",
    "**Error term:** $\\epsilon \\sim N(0, \\sigma_\\epsilon^2)$, iid.\r\n",
    "\r\n",
    "**Linear assumption:** $E(Y|X) = X\\beta$\r\n",
    "\r\n",
    "**Unusual observations:**these few observations might change the choice and fit of the model (example, large values can effect which model we deem as the \"best\"... but should these large values be included?)\r\n",
    "\r\n",
    "\r\n",
    "\r\n",
    "\r\n"
   ],
   "metadata": {}
  }
 ],
 "metadata": {
  "kernelspec": {
   "display_name": "Python 3.6.8 64-bit",
   "name": "python368jvsc74a57bd07c28e26739430500fec97d508cbac2e5d4a112deb445b412c4e69aa96f605479"
  },
  "language_info": {
   "name": "python",
   "version": ""
  },
  "orig_nbformat": 2
 },
 "nbformat": 4,
 "nbformat_minor": 2
}