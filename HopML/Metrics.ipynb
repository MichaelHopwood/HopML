{
 "cells": [
  {
   "cell_type": "markdown",
   "metadata": {},
   "source": [
    "# Metrics\n",
    "\n",
    "## Linear Models\n",
    "\n",
    "We need to check the assumptions of the linear model before using the model. This process is called regression diagnostics. We divide the potential problems into the following categories.\n",
    "\n",
    "**Error term:** $\\epsilon \\sim N(0, \\sigma_\\epsilon^2)$, iid.\n",
    "\n",
    "**Linear assumption:** $E(Y|X) = X\\beta$\n",
    "\n",
    "**Unusual observations:** these few observations might change the choice and fit of the model (example, large values can effect which model we deem as the \"best\"... but should these large values be included?)\n",
    "\n",
    "\n",
    "\n",
    "\n"
   ]
  },
  {
   "cell_type": "markdown",
   "metadata": {},
   "source": [
    "## Binary classification\n",
    "\n",
    "### Accuracy\n",
    "\n",
    "$$\\hbox{Accuracy} = \\frac{\\hbox{Number of correct predictions}}{\\hbox{Total number of predictions made}}$$\n",
    "\n",
    "### Confusion matrix\n",
    "\n",
    "\n",
    "$n = 165$\n",
    "\n",
    "$$\\begin{matrix}\n",
    "& \\hbox{Predicted No (-1)} & \\hbox{Predicted Yes (+1)}\\\\\n",
    "\\hbox{Actual No (-1)} & 50 \\hbox{(TN)} & 10 \\hbox{(FP)}\\\\\n",
    "\\hbox{Actual Yes (+1)} & 5 \\hbox{(FN)}& 150 \\hbox{(TP)}\\\\\n",
    "\\end{matrix}$$\n",
    "\n",
    "**True positive (TP)**: cases in which we predicted YES and the actual output was YES.\n",
    "\n",
    "**True negative (TN)**: cases in which we predicted NO and the actual output was NO.\n",
    "\n",
    "**False positive (FP)**: cases in which we predicted YES and the actual output was NO.\n",
    "\n",
    "**False negative (FN)**: cases in which we predicted NO and the actual output was YES.\n",
    "\n",
    "$$Accuracy = \\frac{TP + TN}{\\hbox{Total sample}} = \\frac{100 + 50}{165} = 0.91$$\n",
    "\n",
    "**True positive rate (sensitivity)**\n",
    "\n",
    "$$TPR = \\frac{TP}{FN + TP}$$\n",
    "\n",
    "**True negative rate (specificity)**\n",
    "\n",
    "$$TNR = \\frac{TN}{FP + TN}$$\n",
    "\n",
    "**False positive rate**\n",
    "\n",
    "$$FPR = \\frac{FP}{FP + TN}$$\n",
    "\n",
    "**Precision**\n",
    "\n",
    "$$Precision = \\frac{TP}{TP + FP}$$\n",
    "\n",
    "**Recall**\n",
    "\n",
    "$$Recall = \\frac{TP}{TP + FN}$$\n",
    "\n"
   ]
  },
  {
   "cell_type": "markdown",
   "metadata": {},
   "source": [
    "## Regression\n",
    "\n",
    "### Mean absolute error (MAE)\n",
    "\n",
    "$$MAE = \\frac{1}{N} \\sum_{i=1}^N |y_i - \\hat{y}_i|$$\n",
    "\n",
    "where $y_i$ are the actual value and $\\hat{y}_i$ are the predicted values.\n",
    "\n",
    "### Mean squared error (MSE)\n",
    "\n",
    "$$MSE = \\frac{1}{N} \\sum_{i=1}^N (y_i - \\hat{y}_i)^2$$\n",
    "\n",
    "It is easier to compute the gradient of $MSE$ than the $MAE$, so it is often preferred. Additionally, $MAE$ requires complicated linear programming tools to compute the gradient."
   ]
  }
 ],
 "metadata": {
  "interpreter": {
   "hash": "7c28e26739430500fec97d508cbac2e5d4a112deb445b412c4e69aa96f605479"
  },
  "kernelspec": {
   "display_name": "Python 3.6.8 64-bit",
   "name": "python3"
  },
  "language_info": {
   "name": "python",
   "version": "3.6.8"
  },
  "orig_nbformat": 2
 },
 "nbformat": 4,
 "nbformat_minor": 2
}
