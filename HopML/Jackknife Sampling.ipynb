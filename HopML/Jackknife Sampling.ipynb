{
 "cells": [
  {
   "cell_type": "markdown",
   "source": [
    "# Jackknife\r\n",
    "\r\n",
    "The jackknife was proposed by M.H. Quenouille in 1949, and later refined and given its current name by John Tukey in 1956. It is similar to the bootstrap in that it involves resampling, but instead of sampling with replacement, the method samples without replacement."
   ],
   "metadata": {}
  },
  {
   "cell_type": "markdown",
   "source": [
    "## Procedure\r\n",
    "\r\n",
    "**Definition:**  The jackknife samples are computed by leaving out one observation $X_i$ from $\\vec{x} = (x_1, ..., x_n)$ at a time: \r\n",
    "\r\n",
    "A jackknife sample looks like\r\n",
    "\r\n",
    "$$\\vec{x}_{(i)} = (x_1, x_2, ..., x_{i-1}, x_{i+1}, ..., x_n)$$\r\n",
    "\r\n",
    "The dimension of a jackknife sample is $m = n-1$. There are $n$ unique different jackknife samples (which is probably a limitation). \r\n",
    "\r\n",
    "Notice: **No sampling is needed to compute the $n$ jackknife samples!**\r\n",
    "\r\n",
    "The $i$th Jackknife replicate $\\hat{\\theta}_{(i)}$ is defined as the value of the estimator or statistic $s(.)$ evaluated at the $i$th Jackknife sample $$\\hat{\\theta}_{(i)} = s(\\vec{X}_{(i)}), \\forall i = 1, ..., n.$$\r\n",
    "\r\n",
    "**Example:** Let $\\vec{X} = (1,5,7,10,12)^\\prime$ and define $\\hat{\\theta} = s(\\vec{X}) = \\bar{X}$ (sample mean).\r\n",
    "\r\n",
    "Step 1: The jackknife samples are \r\n",
    "\r\n",
    "$\\vec{X}_{(1)} = (5,7,10,12)^\\prime$\r\n",
    "\r\n",
    "$\\vec{X}_{(2)} = (3,7,10,12)^\\prime$\r\n",
    "\r\n",
    "$\\vec{X}_{(3)} = (3,5,10,12)^\\prime$\r\n",
    "\r\n",
    "$\\vec{X}_{(4)} = (3,5,7,12)^\\prime$\r\n",
    "\r\n",
    "$\\vec{X}_{(5)} = (3,5,7,10)^\\prime$\r\n",
    "\r\n",
    "Notice: $n$ samples are generated, each of size $m=n-1$.\r\n",
    "\r\n",
    "The 5 Jackknife replicates are: \r\n",
    "\r\n",
    "$\\hat{\\theta}_{(1)} = \\frac{5+7+10+12}{4}$\r\n",
    "\r\n",
    "$\\hat{\\theta}_{(2)} = \\frac{3+7+10+12}{4}$\r\n",
    "\r\n",
    "$\\hat{\\theta}_{(3)} = \\frac{3+5+10+12}{4}$\r\n",
    "\r\n",
    "$\\hat{\\theta}_{(4)} = \\frac{3+5+7+12}{4}$\r\n",
    "\r\n",
    "$\\hat{\\theta}_{(5)} = \\frac{3+5+7+10}{4}$"
   ],
   "metadata": {}
  },
  {
   "cell_type": "markdown",
   "source": [
    "## Standard error estimate\r\n",
    "\r\n",
    "Step 1: Compute the $n$ jackknife samples (see above)\r\n",
    "\r\n",
    "Step 2: Evlauate the $n$ Jackknife replications (see above)\r\n",
    "\r\n",
    "Step 3: Evaluate standard error estimate as $se_{jack} = [\\frac{n-1}{n} \\sum(\\hat{\\theta}_{(.)} - \\hat{\\theta}_{(i)})^2]^{1/2}$\r\n",
    "\r\n",
    "where $\\hat{\\theta}_{(.)} = \\frac{1}{n} \\sum_{i=1}^n \\hat{\\theta}_{(i)}$\r\n",
    "\r\n",
    "## Bias estimate\r\n",
    "\r\n",
    "Step 1: Compute the $n$ jackknife samples (see above)\r\n",
    "\r\n",
    "Step 2: Evlauate the $n$ Jackknife replications (see above)\r\n",
    "\r\n",
    "Step 3: Jackknife bias estimate is $bias_{jack} = (n-1) (\\hat{\\theta}_{.} - \\hat{\\theta})$ where $\\hat{\\theta}_{(.)} = \\frac{1}{n} \\sum_{i=1}^n \\hat{\\theta}_{(i)}$"
   ],
   "metadata": {}
  },
  {
   "cell_type": "code",
   "execution_count": 13,
   "source": [
    "import copy\r\n",
    "import numpy as np\r\n",
    "\r\n",
    "x = [3,5,7,10,12]\r\n",
    "n = len(x)\r\n",
    "\r\n",
    "replications = []\r\n",
    "for i in range(len(x)):\r\n",
    "    xi = copy.copy(x)\r\n",
    "    # Remove current index's sample\r\n",
    "    xi.pop(i)\r\n",
    "    replication_i = sum(xi) / len(xi)\r\n",
    "    replications.append(replication_i)\r\n",
    "\r\n",
    "replications = np.array(replications)\r\n",
    "theta_dot = (1./n) * np.sum(replications)\r\n",
    "var = ( (n-1) / n ) * np.sum((theta_dot - replications)**2)\r\n",
    "se = np.sqrt(var)\r\n",
    "bias = (n-1) * (theta_dot - replications)\r\n",
    "\r\n",
    "#print(\"Using python plugins\", \"variance:\", np.var(replications), \"std\", np.std(replications))\r\n",
    "\"Standard error of jackknife:\", se, \"bias\", bias"
   ],
   "outputs": [
    {
     "output_type": "execute_result",
     "data": {
      "text/plain": [
       "('Standard error of jackknife:',\n",
       " 1.6309506430300091,\n",
       " 'bias',\n",
       " array([-4.4, -2.4, -0.4,  2.6,  4.6]))"
      ]
     },
     "metadata": {},
     "execution_count": 13
    }
   ],
   "metadata": {}
  },
  {
   "cell_type": "markdown",
   "source": [
    "## Relationship with bootstrap\r\n",
    "\r\n",
    "When $n$ is small, it is easier (faster) to compute the n-Jackknife replications. However, the Jackknife uses less information (less samples) than the bootstrap. In fact, the jackknife is an approximator to the bootstrap. \r\n",
    "\r\n",
    "## Failure of the Jackknife\r\n",
    "\r\n",
    "The jackknife can faile if the estimate $\\hat{\\theta}$ is not smooth (i.e. a small change in the data can cause a large change in the statistic). An example of a simple non-smooth statistic is the median.\r\n",
    "\r\n",
    "Example: $\\vec{X} = (10,27,31,40,46,50,52,104,146)^\\prime$"
   ],
   "metadata": {}
  },
  {
   "cell_type": "code",
   "execution_count": 15,
   "source": [
    "import copy\r\n",
    "import numpy as np\r\n",
    "\r\n",
    "x = [10,27,31,40,46,50,52,104,146]\r\n",
    "n = len(x)\r\n",
    "\r\n",
    "replications = []\r\n",
    "for i in range(len(x)):\r\n",
    "    xi = copy.copy(x)\r\n",
    "    # Remove current index's sample\r\n",
    "    xi.pop(i)\r\n",
    "    replication_i = np.median(xi)\r\n",
    "    replications.append(replication_i)\r\n",
    "\r\n",
    "print(replications)\r\n",
    "replications = np.array(replications)\r\n",
    "theta_dot = (1./n) * np.sum(replications)\r\n",
    "var = ( (n-1) / n ) * np.sum((theta_dot - replications)**2)\r\n",
    "se = np.sqrt(var)\r\n",
    "bias = (n-1) * (theta_dot - replications)\r\n",
    "\r\n",
    "#print(\"Using python plugins\", \"variance:\", np.var(replications), \"std\", np.std(replications))\r\n",
    "\"Standard error of jackknife:\", se, \"bias\", bias"
   ],
   "outputs": [
    {
     "output_type": "stream",
     "name": "stdout",
     "text": [
      "[48.0, 48.0, 48.0, 48.0, 45.0, 43.0, 43.0, 43.0, 43.0]\n"
     ]
    },
    {
     "output_type": "execute_result",
     "data": {
      "text/plain": [
       "('Standard error of jackknife:',\n",
       " 6.681465057054626,\n",
       " 'bias',\n",
       " array([-20.44444444, -20.44444444, -20.44444444, -20.44444444,\n",
       "          3.55555556,  19.55555556,  19.55555556,  19.55555556,\n",
       "         19.55555556]))"
      ]
     },
     "metadata": {},
     "execution_count": 15
    }
   ],
   "metadata": {}
  },
  {
   "cell_type": "markdown",
   "source": [
    "There are many duplicates in the replications. This maps down nine statistics down to three, caused by the nonsmooth statistic. The jackknife is not a good estimation method for estimating percentiles (such as the median), or when using any other non-smooth estimator. \r\n",
    "\r\n",
    "To resolve this issue, the method called **Delete-d jackknife** was created."
   ],
   "metadata": {}
  },
  {
   "cell_type": "markdown",
   "source": [
    "## Delete-d Jackknife\r\n",
    "\r\n",
    "The delete-d jackknife subsamples are computed by leaving out $d$ observations from $\\vec{X}$ at a time. This is the essence of cross validation!\r\n",
    "\r\n",
    "The dimension of the subsample is $n-d$. The number of possible subsamples now rises to $\\begin{pmatrix}n\\\\d\\\\\\end{pmatrix}$\r\n",
    "\r\n",
    "**Algorithm**\r\n",
    "\r\n",
    "Step 1: Compute all $\\begin{pmatrix}n\\\\d\\\\\\end{pmatrix}$ d-jackknife subsamples from $\\vec{x}$.\r\n",
    "\r\n",
    "Step 2: Evaluate the jackknife replications $\\hat{\\theta}_{(i)} = s(\\vec{x}_{(i)})$\r\n",
    "\r\n",
    "Step 3: Estimation of the s.e. (where $n=rd$, where $r$ is a constant)\r\n",
    "\r\n",
    "$$\\hat{se}_{d-jack} = \\{ \\frac{r}{\\begin{pmatrix}n\\\\d\\\\\\end{pmatrix}} \\sum_i (\\hat{\\theta}_{(i)} - \\hat{\\theta}_{.})^2 \\}^{1/2}$$\r\n",
    "\r\n",
    "where $\\hat{\\theta}_{.} = \\frac{\\sum_i \\theta_{(i)}}{\\begin{pmatrix}n\\\\d\\\\\\end{pmatrix}}$\r\n",
    "\r\n",
    "The inconsistency of the jackknife subsamples with non-smooth statistics can be fixed using delete-d jackknife subsamples.\r\n"
   ],
   "metadata": {}
  }
 ],
 "metadata": {
  "orig_nbformat": 4,
  "language_info": {
   "name": "python",
   "version": "3.6.8",
   "mimetype": "text/x-python",
   "codemirror_mode": {
    "name": "ipython",
    "version": 3
   },
   "pygments_lexer": "ipython3",
   "nbconvert_exporter": "python",
   "file_extension": ".py"
  },
  "kernelspec": {
   "name": "python3",
   "display_name": "Python 3.6.8 64-bit"
  },
  "interpreter": {
   "hash": "7c28e26739430500fec97d508cbac2e5d4a112deb445b412c4e69aa96f605479"
  }
 },
 "nbformat": 4,
 "nbformat_minor": 2
}