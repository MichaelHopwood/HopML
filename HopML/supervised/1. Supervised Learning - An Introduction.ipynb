{
 "cells": [
  {
   "cell_type": "markdown",
   "metadata": {},
   "source": [
    "# Supervised Learning: An Introduction\r\n",
    "\r\n",
    "## Least-squares\r\n",
    "\r\n",
    "$$\\hat{Y} = \\hat{\\beta_0} + \\sum_{i=1}^n X_{i} \\hat{\\beta_j}$$\r\n",
    "\r\n",
    "Where the $\\beta_0$ term is the model *bias*. If rewriting with "
   ]
  }
 ],
 "metadata": {
  "kernelspec": {
   "display_name": "Python 3.6.8 64-bit",
   "name": "python368jvsc74a57bd07c28e26739430500fec97d508cbac2e5d4a112deb445b412c4e69aa96f605479"
  },
  "language_info": {
   "name": "python",
   "version": ""
  },
  "orig_nbformat": 2
 },
 "nbformat": 4,
 "nbformat_minor": 2
}