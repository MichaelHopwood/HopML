{
 "cells": [
  {
   "cell_type": "markdown",
   "metadata": {},
   "source": [
    "# Discriminant Analysis\n",
    "\n",
    "## Overview\n",
    "\n",
    "Discriminant analysis employs a decision boundary to partition a feature space into classifications. We find a boundary by finding where $\\delta_1 = \\delta_2$. \n",
    "\n",
    "## Details\n",
    "\n",
    "\n",
    "\n",
    "## Other notes\n",
    "\n",
    "LDA has $k \\times p$ (from $\\mu_k$) PLUS $k - 1$ (from $\\pi_k$) PLUS $\\frac{p}{p+1}/2$ from $\\Sigma$ (because the correlation matrix is symmetric)\n",
    "\n",
    "QDA has $k \\times p$ (from $\\mu_k$) PLUS $k - 1$ (from $\\pi_k$) PLUS $k \\times \\frac{p}{p+1}/2$ from $\\Sigma_k$ (because the correlation matrix is symmetric)\n",
    "\n",
    "QDA:\n",
    "\n",
    "$$P(Y=k | X) = \\frac{\\pi(k) f_k(x)}{\\sum_{i=1}^k \\pi_k f_k(x)} = \\pi_k f_k(x) \\times C = \\pi_k (2\\pi)^{-p/2} \\log |\\Sigma_k|^{-1/2} \\times \\exp( -\\frac{1}{2} (x - \\mu_k)^T )$$\n",
    "\n",
    "If take $\\log$ of this, it becomes the discriminant score. LDA cancels the first term. The squared term is used so a quadratic boundary is found.\n",
    "\n",
    "$\\delta_k(x) = \\ln p_k(x) + c$\n"
   ]
  }
 ],
 "metadata": {
  "interpreter": {
   "hash": "7c28e26739430500fec97d508cbac2e5d4a112deb445b412c4e69aa96f605479"
  },
  "kernelspec": {
   "display_name": "Python 3.6.8 64-bit",
   "name": "python3"
  },
  "language_info": {
   "name": "python",
   "version": "3.6.8"
  },
  "orig_nbformat": 4
 },
 "nbformat": 4,
 "nbformat_minor": 2
}
