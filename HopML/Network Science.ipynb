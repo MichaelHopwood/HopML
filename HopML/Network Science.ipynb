{
 "cells": [
  {
   "cell_type": "markdown",
   "metadata": {},
   "source": [
    "# Network science\r\n",
    "\r\n",
    "Graphs $G = G(A, X)$ contain an adjacency definition and a feature matrix. \r\n",
    "\r\n",
    "## Components of complex systems\r\n",
    "\r\n",
    "### Interactions\r\n",
    "\r\n",
    "Interacting with each other and their environment\r\n",
    "\r\n"
   ]
  }
 ],
 "metadata": {
  "kernelspec": {
   "display_name": "Python 3.6.8 64-bit",
   "name": "python368jvsc74a57bd07c28e26739430500fec97d508cbac2e5d4a112deb445b412c4e69aa96f605479"
  },
  "language_info": {
   "name": "python",
   "version": ""
  },
  "orig_nbformat": 2
 },
 "nbformat": 4,
 "nbformat_minor": 2
}