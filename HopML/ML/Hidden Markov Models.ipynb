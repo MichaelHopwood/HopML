{
 "cells": [
  {
   "cell_type": "markdown",
   "metadata": {},
   "source": [
    "# Hidden Markov Models (HMM)\r\n",
    "\r\n",
    "A hidden markov model (HMM) is a stochatic process (evolution in time of a random process) based on a markov chain (probability of each event depends only on the state attained in the previous event). A HMM infers unobserved information from observed data through the study of probabilities. \r\n",
    "\r\n",
    "Observed data can contain noise (i.e. due to sensor readings) which hides the ground truth. For instance, if reading location from a GPS while _standing still_, the sensor may jump around a small amount even though the hidden truth is constant. This \"hidden truth\" is called a **state variable**. A HMM chains these states together (chronologically) to estimate the state at time = 1 from time = 0 (for the case of a simple 1st order markov chain). Each state $X_i$ has an associated observation $Y_i$.\r\n",
    "\r\n",
    "\\begin{vmatrix}\r\n",
    "1 & 2 & 3\\\\\r\n",
    "a & b & c\r\n",
    "\\end{vmatrix}\r\n",
    "\r\n"
   ]
  }
 ],
 "metadata": {
  "kernelspec": {
   "display_name": "Python 3.6.8 64-bit",
   "name": "python368jvsc74a57bd07c28e26739430500fec97d508cbac2e5d4a112deb445b412c4e69aa96f605479"
  },
  "language_info": {
   "name": "python",
   "version": ""
  },
  "orig_nbformat": 2
 },
 "nbformat": 4,
 "nbformat_minor": 2
}