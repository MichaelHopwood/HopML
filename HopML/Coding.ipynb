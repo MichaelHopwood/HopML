{
 "cells": [
  {
   "cell_type": "markdown",
   "metadata": {},
   "source": [
    "# Coding Patterns"
   ]
  },
  {
   "cell_type": "markdown",
   "metadata": {},
   "source": [
    "## Prefix Sum\n",
    "\n",
    "Query the sum of elements in a subarray\n",
    "\n",
    "imagine you are given an array and you need to find the sum of all elements between indexes I and J\n",
    "\n",
    "* if you have just one query you can simply Loop through the array in linear time to find the sum\n",
    "* if you have multiple such queries it can take up to order of n * m time complexity where m is the number of queries and N is the length of the array to make such queries faster you can create a prefix sumary where value at index I is the sum of all elements from start up to index I in the given array now you can arrange some queries in O of one time using the formula\n",
    "\n",
    "$$P[i] = A[0] + A[1] + ... + A[i]$$\n",
    "\n",
    "$$SUM[i,j] = P[j] - P[i-1]$$\n",
    "\n",
    "one thing to remember is that you don't always need a new array for prefix sums sometimes you can use the input array itself and avoid using extra space, like this:"
   ]
  },
  {
   "cell_type": "code",
   "execution_count": 10,
   "metadata": {},
   "outputs": [],
   "source": [
    "def create_prefix_sum(arr):\n",
    "    # This code is used to create a prefix sum of an array.\n",
    "    # It takes in an array as input and returns a new array with the prefix sum of the input array.\n",
    "    for i in range(1, len(arr)):\n",
    "        arr[i] += arr[i-1]\n",
    "    return arr"
   ]
  },
  {
   "cell_type": "markdown",
   "metadata": {},
   "source": [
    "### Example 1: (303) Range Sum Query - Immutable\n",
    "\n",
    "Given an integer array `nums`, handle multiple queries of the following type:\n",
    "\n",
    "Calculate the sum of the elements of `nums` between indices `left` and `right` inclusive where `left <= right`.\n",
    "\n",
    "Implement the `NumArray` class:\n",
    "\n",
    "`NumArray(int[] nums)` Initializes the object with the integer array `nums`.\n",
    "`int sumRange(int left, int right)` Returns the sum of the elements of `nums` between indices `left` and `right` inclusive (i.e. `nums[left] + nums[left + 1] + ... + nums[right]`).\n",
    "\n",
    "Example 1:\n",
    "\n",
    "**Input**\n",
    "```\n",
    "[\"NumArray\", \"sumRange\", \"sumRange\", \"sumRange\"]\n",
    "[[[-2, 0, 3, -5, 2, -1]], [0, 2], [2, 5], [0, 5]]\n",
    "```\n",
    "**Output**\n",
    "```\n",
    "[null, 1, -1, -3]\n",
    "```\n",
    "**Explanation**\n",
    "```\n",
    "NumArray numArray = new NumArray([-2, 0, 3, -5, 2, -1]);\n",
    "numArray.sumRange(0, 2); // return (-2) + 0 + 3 = 1\n",
    "numArray.sumRange(2, 5); // return 3 + (-5) + 2 + (-1) = -1\n",
    "numArray.sumRange(0, 5); // return (-2) + 0 + 3 + (-5) + 2 + (-1) = -3\n",
    "```\n",
    "\n",
    "**Constraints:**\n",
    "\n",
    "* `1 <= nums.length <= 10^4`\n",
    "* `-10^5 <= nums[i] <= 10^5`\n",
    "* `0 <= left <= right < nums.length`\n",
    "* At most `10^4` calls will be made to `sumRange`."
   ]
  },
  {
   "cell_type": "code",
   "execution_count": 2,
   "metadata": {},
   "outputs": [
    {
     "data": {
      "text/plain": [
       "-1"
      ]
     },
     "execution_count": 2,
     "metadata": {},
     "output_type": "execute_result"
    }
   ],
   "source": [
    "from typing import List\n",
    "\n",
    "class NumArray:\n",
    "\n",
    "    def __init__(self, nums: List[int]):\n",
    "        n = len(nums)\n",
    "        self.prefix_sum = [0] * n\n",
    "        self.prefix_sum[0] = nums[0]\n",
    "        for i in range(1,n):\n",
    "            self.prefix_sum[i] = self.prefix_sum[i-1] + nums[i]\n",
    "\n",
    "    def sumRange(self, left: int, right: int) -> int:\n",
    "        return self.prefix_sum[right] - self.prefix_sum[left - 1] if left > 0 else self.prefix_sum[right]\n",
    "\n",
    "\n",
    "obj = NumArray(nums=[-2, 0, 3, -5, 2, -1])\n",
    "obj.sumRange(left=1,right=5)"
   ]
  },
  {
   "cell_type": "markdown",
   "metadata": {},
   "source": [
    "The time complexity is `O(n)` for building the prefix sum, and `O(1)` for lookup and subtraction. The memory complexity is `O(n)` to store the prefix sum array.\n",
    "\n",
    "#### Easy Memory Optimization\n",
    "\n",
    "If memory is a concern, we can reduce the memory but at the cost of slower queries. For example, \n",
    "\n",
    "```py\n",
    "class NumArray:\n",
    "    def __init__(self, nums: List[int]):\n",
    "        self.nums = nums  # Store original\n",
    "\n",
    "    def sumRange(self, left: int, right: int) -> int:\n",
    "        return sum(self.nums[left:right+1])\n",
    "```\n",
    "\n",
    "This renders time complexity of `O(1)` for `__init__` and `O(r - l + 1)` for query, and memory `O(n)` (but does not need to load in `nums`).\n",
    "\n",
    "#### Segment Tree\n",
    "\n",
    "For scalability and access to ability to `update`, we can use Segment Trees.\n",
    "\n",
    "How it works:\n",
    "\n",
    "* The tree is built as a flat array of size `2n`:\n",
    "  * Leaves are stored in `tree[n:]`\n",
    "  * Internal nodes are in `tree[1:n]`\n",
    "* Each node contains the sum of its children's ranges.\n",
    "  \n",
    "\n",
    "**Why is it O(log n)?**\n",
    "1. Tree Height\n",
    "A Segment Tree is a **complete binary tree**, where:\n",
    "* Each level halves the number of nodes\n",
    "* Number of levels (tree height) is: `height=log₂(n)`\n",
    "\n",
    "For example, if `n=8`:\n",
    "\n",
    "```text\n",
    "Level 0:          [0..7]          ← root\n",
    "               /         \\\n",
    "Level 1:     [0..3]     [4..7]\n",
    "            /     \\     /     \\\n",
    "Level 2:  [0..1] [2..3] [4..5] [6..7]\n",
    "         /   \\   /   \\  /   \\  /   \\\n",
    "Level 3:[0] [1] [2] [3][4] [5][6] [7] ← leaves\n",
    "```\n",
    "\n",
    "There are `log₂(n)` levels from root to any leaf.\n"
   ]
  },
  {
   "cell_type": "code",
   "execution_count": 3,
   "metadata": {},
   "outputs": [
    {
     "data": {
      "text/plain": [
       "-1"
      ]
     },
     "execution_count": 3,
     "metadata": {},
     "output_type": "execute_result"
    }
   ],
   "source": [
    "from typing import List\n",
    "\n",
    "class NumArray:\n",
    "\n",
    "    def __init__(self, nums: List[int]):\n",
    "        self.n = len(nums)\n",
    "        self.tree = [0] * (2 * self.n)\n",
    "        # Build tree (insert leaves)\n",
    "        for i in range(self.n):\n",
    "            self.tree[self.n + i] = nums[i]\n",
    "        # Build internal nodes\n",
    "        for i in range(self.n - 1, 0, -1):\n",
    "            self.tree[i] = self.tree[2 * i] + self.tree[2 * i + 1]\n",
    "\n",
    "    def update(self, index: int, val: int) -> None:\n",
    "        # Set value at position index\n",
    "        pos = index + self.n\n",
    "        self.tree[pos] = val\n",
    "        # Update ancestors\n",
    "        while pos > 1:\n",
    "            pos //= 2\n",
    "            self.tree[pos] = self.tree[2 * pos] + self.tree[2 * pos + 1]\n",
    "\n",
    "    def sumRange(self, left: int, right: int) -> int:\n",
    "        # Sum on interval [left, right]\n",
    "        left += self.n\n",
    "        right += self.n\n",
    "        total = 0\n",
    "        while left <= right:\n",
    "            if left % 2 == 1:\n",
    "                total += self.tree[left]\n",
    "                left += 1\n",
    "            if right % 2 == 0:\n",
    "                total += self.tree[right]\n",
    "                right -= 1\n",
    "            left //= 2\n",
    "            right //= 2\n",
    "        return total\n",
    "\n",
    "obj = NumArray(nums=[-2, 0, 3, -5, 2, -1])\n",
    "obj.sumRange(left=1,right=5)"
   ]
  },
  {
   "cell_type": "markdown",
   "metadata": {},
   "source": [
    "\n",
    "#### Summary of Optimization\n",
    "\n",
    "| Approach           | `sumRange()` Time | Memory | Supports `update()`? |\n",
    "| ------------------ | ----------------- | ------ | -------------------- |\n",
    "| Prefix sum | `O(1)`            | `O(n)` | ❌                    |\n",
    "| On-demand sum      | `O(n)`            | `O(n)` | ❌                    |\n",
    "| Segment tree       | `O(log n)`        | `O(n)` | ✅                    |\n",
    "\n",
    "As a reminder, for large arrays (say `n>1000`), `O(log n)` is already **orders of magnitude faster** than `O(n)`.\n",
    "\n",
    "| `n`       | `log₂(n)` |\n",
    "| --------- | --------- |\n",
    "| 10        | \\~3.3     |\n",
    "| 100       | \\~6.6     |\n",
    "| 1,000     | \\~10      |\n",
    "| 1,000,000 | \\~20      |\n",
    "\n",
    "Also, the more **queries/updates** that you do, the better `O(log n)` becomes overall.\n",
    "\n",
    "**Example**: You want to perform `q` range queries.\n",
    "\n",
    "* Prefix sum:\n",
    "    * Build: `O(n)`\n",
    "    * Each query: `O(1)`\n",
    "    * Total: `O(n + q)`\n",
    "Segment tree:\n",
    "    * Build: `O(n)`\n",
    "    * Each query: `O(log n)`\n",
    "    * Total: `O(n + q·log n)`\n",
    "\n",
    "So prefix sum is better **until**:\n",
    "\n",
    "```q·log n > q  ⟹ log n > 1  ⟹ n > 2```\n",
    "\n",
    "But if you also allow updates (which prefix sum cannot do efficiently), segment tree dominates:\n",
    "* Prefix sum updates: `O(n)`\n",
    "* Segment tree updates: `O(log n)`\n",
    "\n",
    "So if you're doing many updates, segment trees are far better for `n > ~32` or so.\n",
    "\n",
    "### Example 2 (525): Contiguous Array\n",
    "\n",
    "Given a binary array `nums`, return the maximum length of a contiguous subarray with an equal number of `0` and `1`.\n",
    "\n",
    "**Example 1:**\n",
    "\n",
    "Input: `nums = [0,1]`\n",
    "Output: `2`\n",
    "Explanation: `[0, 1] is the longest contiguous subarray with an equal number of 0 and 1.`\n",
    "\n",
    "**Example 2:**\n",
    "\n",
    "Input: `nums = [0,1,0]`\n",
    "Output: `2`\n",
    "Explanation: `[0, 1] (or [1, 0]) is a longest contiguous subarray with equal number of 0 and 1.`\n",
    "\n",
    "**Example 3:**\n",
    "\n",
    "Input: `nums = [0,1,1,1,1,1,0,0,0]`\n",
    "Output: `6`\n",
    "Explanation: `[1,1,1,0,0,0] is the longest contiguous subarray with equal number of 0 and 1.`\n",
    " \n",
    "**Constraints:**\n",
    "* `1 <= nums.length <= 105`\n",
    "* `nums[i]` is either `0` or `1`."
   ]
  },
  {
   "cell_type": "code",
   "execution_count": 4,
   "metadata": {},
   "outputs": [
    {
     "data": {
      "text/plain": [
       "6"
      ]
     },
     "execution_count": 4,
     "metadata": {},
     "output_type": "execute_result"
    }
   ],
   "source": [
    "from typing import List\n",
    "\n",
    "class Solution:\n",
    "\n",
    "    def findMaxLength(self, nums: List[int]) -> int:\n",
    "        dic = {}\n",
    "        dic[0] = -1\n",
    "        ans = 0\n",
    "        count = 0\n",
    "\n",
    "        for i in range(len(nums)):\n",
    "            if nums[i] == 1:\n",
    "                count += 1\n",
    "            else:\n",
    "                count -= 1\n",
    "            \n",
    "            if count in dic:\n",
    "                ans = max(ans, i - dic[count])\n",
    "            else:\n",
    "                dic[count] = i\n",
    "        return ans\n",
    "\n",
    "Solution().findMaxLength([0,0,1,0,0,0,1,1])"
   ]
  },
  {
   "attachments": {
    "image.png": {
     "image/png": "[encoded data removed]"
    }
   },
   "cell_type": "markdown",
   "metadata": {},
   "source": [
    "Imagine a `count` variable, which is used to store the relative number of ones and zeros encountered so far while traversing the array. The `count` variable is incremented by one for every 1 encountered and the same is decremented by one for every 0 encountered.\n",
    "\n",
    "We start traversing the array from the beginning. If at any moment, the `count` becomes zero, it implies that we've encountered an equal number of zeros and ones from the beginning till the current index of the array(i). Not only this, another point to be noted is that if we encounter the same `count` twice (for any value, not just 0) while traversing the array, it means that the number of zeros and ones are equal between the indices corresponding to the equal `count` values. The following figure illustrates the observation for the sequence `[0 0 1 0 0 0 1 1]`:\n",
    "\n",
    "![image.png](attachment:image.png)\n",
    "\n",
    "In the above figure, the subarrays between (A,B), (B,C), and (A,C) (lying between indices corresponding to `count=−2`) have an equal number of zeros and ones.\n",
    "\n",
    "Another point to be noted is that the largest subarray is the one between the points (A, C). Thus, if we keep a track of the indices corresponding to the same `count` values that lie farthest apart, we can determine the size of the largest subarray with equal no. of zeros and ones easily.\n",
    "\n",
    "We can use a hash map that maps values of `count` to the first index where that `count` was seen. We maintain the value of `count` and at each index, if we have seen the same value of `count` before, it means the subarray starting from where we saw that value of `count` and ending at the current index has an equal number of 0s and 1s. Otherwise, we put `count` in the map for future iterations."
   ]
  },
  {
   "cell_type": "markdown",
   "metadata": {},
   "source": [
    "### Example 3 (560): Subarray Sum Equals K\n",
    "\n",
    "Given an array of integers `nums` and an integer `k`, return the total number of subarrays whose sum equals to `k`.\n",
    "\n",
    "A subarray is a contiguous non-empty sequence of elements within an array.\n",
    "\n",
    "**Example 1:**\n",
    "\n",
    "Input: `nums = [1,1,1], k = 2`\n",
    "Output: `2`\n",
    "\n",
    "**Example 2:**\n",
    "\n",
    "Input: `nums = [1,2,3], k = 3`\n",
    "Output: `2`\n",
    " \n",
    "**Constraints:**\n",
    "* `1 <= nums.length <= 2 * 104`\n",
    "* `-1000 <= nums[i] <= 1000`\n",
    "* `-107 <= k <= 107`\n",
    "\n",
    "\n",
    "#### Brute force solution"
   ]
  },
  {
   "cell_type": "code",
   "execution_count": 7,
   "metadata": {},
   "outputs": [
    {
     "data": {
      "text/plain": [
       "2"
      ]
     },
     "execution_count": 7,
     "metadata": {},
     "output_type": "execute_result"
    }
   ],
   "source": [
    "class Solution:\n",
    "    def subarraySum(self, nums: List[int], k: int) -> int:\n",
    "        count = 0\n",
    "        n = len(nums)\n",
    "        \n",
    "        for start in range(n):\n",
    "            current_sum = 0\n",
    "            for end in range(start, n):\n",
    "                current_sum += nums[end]\n",
    "                if current_sum == k:\n",
    "                    count += 1\n",
    "                    \n",
    "        return count\n",
    "\n",
    "Solution().subarraySum([1,2,3],3)"
   ]
  },
  {
   "cell_type": "markdown",
   "metadata": {},
   "source": [
    "this is very slow `O(n²)` but requires no additional memory `O(1)`.  Now, let's try for a better solution, as this is not scalable at all!"
   ]
  },
  {
   "cell_type": "code",
   "execution_count": 10,
   "metadata": {},
   "outputs": [
    {
     "data": {
      "text/plain": [
       "4"
      ]
     },
     "execution_count": 10,
     "metadata": {},
     "output_type": "execute_result"
    }
   ],
   "source": [
    "class Solution:\n",
    "    def subarraySum(self, nums: List[int], k: int) -> int:\n",
    "        count = 0\n",
    "        n = len(nums)\n",
    "        \n",
    "        dic = {}\n",
    "        dic[0] = 1\n",
    "        \n",
    "        current_sum = 0\n",
    "        for end in range(n):\n",
    "            current_sum += nums[end]\n",
    "            if current_sum - k in dic:\n",
    "                count += dic[current_sum - k]\n",
    "            dic[current_sum] = dic.get(current_sum, 0) + 1\n",
    "                    \n",
    "        return count\n",
    "\n",
    "Solution().subarraySum(nums = [3, 4, 7, 2, -3, 1, 4, 2], k = 7)"
   ]
  },
  {
   "cell_type": "markdown",
   "metadata": {},
   "source": [
    "this is a **prefix sum + hash map** solution.\n",
    "\n",
    "Here's an example of how it works for `nums=[1,1,1], k=2`\n",
    "\n",
    "| Index | Num | Current Sum | Needed (current\\_sum - k) | dic before    | count |\n",
    "| ----- | --- | ----------- | ------------------------- | ------------- | ----- |\n",
    "| 0     | 1   | 1           | -1                        | {0:1}         | 0     |\n",
    "| 1     | 1   | 2           | 0                         | {0:1, 1:1}    | 1     |\n",
    "| 2     | 1   | 3           | 1                         | {0:1,1:1,2:1} | 2     |\n",
    "\n",
    "There is 1 occurrence of 1 in dic, which means there's 1 subarray ending at index 2 whose sum is k.\n",
    "\n",
    "Now, here's an example with multiple subarray options, `nums = [3, 4, 7, 2, -3, 1, 4, 2], k = 7`\n",
    "\n",
    "| Index | num | current\\_sum | current\\_sum - k | `count` change      | `count` total | `dic` before update                     |\n",
    "| ----- | --- | ------------ | ---------------- | ------------------- | ------------- | --------------------------------------- |\n",
    "| 0     | 3   | 3            | -4               | +0                  | 0             | {0:1}                                   |\n",
    "| 1     | 4   | 7            | 0                | +1 (found dic\\[0])  | 1             | {0:1, 3:1}                              |\n",
    "| 2     | 7   | 14           | 7                | +1 (found dic\\[7])  | 2             | {0:1, 3:1, 7:1}                         |\n",
    "| 3     | 2   | 16           | 9                | +0                  | 2             | {0:1, 3:1, 7:1, 14:1}                   |\n",
    "| 4     | -3  | 13           | 6                | +0                  | 2             | {0:1, 3:1, 7:1, 14:1, 16:1}             |\n",
    "| 5     | 1   | 14           | 7                | +1 (found dic\\[7])  | 3             | {0:1, 3:1, 7:1, 14:1, 16:1, 13:1}       |\n",
    "| 6     | 4   | 18           | 11               | +0                  | 3             | {0:1, 3:1, 7:1, 14:2, 16:1, 13:1}       |\n",
    "| 7     | 2   | 20           | 13               | +1 (found dic\\[13]) | 4             | {0:1, 3:1, 7:1, 14:2, 16:1, 13:1, 18:1} |\n",
    "\n",
    "The idea is that we want to count the number of times that a `current_sum` occurs that way when we see that `current_sum - k` has been a previous `current_sum`, then it will represent the number of times that the subarray would add to `k`.\n",
    "\n",
    "## Two Pointers\n",
    "\n",
    "two variables and move them towards each other or away from each other (e.g. check for palindrome)\n",
    "\n",
    "### Example 1 (167): Two Sum II - Input Array Is Sorted\n",
    "\n",
    "Given a 1-indexed array of integers `numbers` that is **already sorted in non-decreasing order**, find two numbers such that they add up to a specific `target` number. Let these two numbers be `numbers[index1]` and `numbers[index2]` where `1 <= index1 < index2 <= numbers.length`.\n",
    "\n",
    "Return the indices of the two numbers, `index1` and `index2`, added by one as an integer array `[index1, index2]` of length 2.\n",
    "\n",
    "The tests are generated such that there is exactly one solution. You may not use the same element twice.\n",
    "\n",
    "Your solution must use only constant extra space.\n",
    " \n",
    "\n",
    "**Example 1:**\n",
    "\n",
    "Input: `numbers = [2,7,11,15], target = 9`\n",
    "Output: `[1,2]`\n",
    "Explanation: The sum of 2 and 7 is 9. Therefore, index1 = 1, index2 = 2. We return [1, 2].\n",
    "\n",
    "**Example 2:**\n",
    "\n",
    "Input: `numbers = [2,3,4], target = 6`\n",
    "Output: `[1,3]`\n",
    "Explanation: The sum of 2 and 4 is 6. Therefore index1 = 1, index2 = 3. We return [1, 3].\n",
    "\n",
    "**Example 3:**\n",
    "\n",
    "Input: `numbers = [-1,0], target = -1`\n",
    "Output: `[1,2]`\n",
    "Explanation: The sum of -1 and 0 is -1. Therefore index1 = 1, index2 = 2. We return [1, 2].\n",
    " \n",
    "\n",
    "**Constraints:**\n",
    "\n",
    "* `2 <= numbers.length <= 3 * 104`\n",
    "* `-1000 <= numbers[i] <= 1000` \n",
    "* `numbers` is sorted in non-decreasing order.\n",
    "* `-1000 <= target <= 1000`\n",
    "* The tests are generated such that there is exactly one solution."
   ]
  },
  {
   "cell_type": "code",
   "execution_count": 13,
   "metadata": {},
   "outputs": [
    {
     "data": {
      "text/plain": [
       "[1, 2]"
      ]
     },
     "execution_count": 13,
     "metadata": {},
     "output_type": "execute_result"
    }
   ],
   "source": [
    "class Solution:\n",
    "    def twoSum(self, numbers: List[int], target: int) -> List[int]:\n",
    "        left = 0\n",
    "        right = len(numbers)-1\n",
    "        while left < right:\n",
    "            _sum = numbers[left] + numbers[right]\n",
    "            if _sum > target:\n",
    "                right -= 1\n",
    "            elif _sum < target:\n",
    "                left += 1\n",
    "            else:\n",
    "                return [left+1, right+1]\n",
    "\n",
    "Solution().twoSum([2,7,11,15], 9)"
   ]
  },
  {
   "cell_type": "markdown",
   "metadata": {},
   "source": [
    "Time complexity: `O(n)` Space complexity: `O(1)`\n",
    "\n",
    "### Example 2 (15) : 3Sum\n",
    "\n",
    "Given an integer array nums, return all the triplets `[nums[i], nums[j], nums[k]]` such that `i != j`, `i != k`, and `j != k`, and `nums[i] + nums[j] + nums[k] == 0`.\n",
    "\n",
    "Notice that the solution set must not contain duplicate triplets.\n",
    "\n",
    "**Example 1:**\n",
    "\n",
    "Input: `nums = [-1,0,1,2,-1,-4]`\n",
    "\n",
    "Output: `[[-1,-1,2],[-1,0,1]]`\n",
    "\n",
    "Explanation: \n",
    "```text\n",
    "nums[0] + nums[1] + nums[2] = (-1) + 0 + 1 = 0.\n",
    "nums[1] + nums[2] + nums[4] = 0 + 1 + (-1) = 0.\n",
    "nums[0] + nums[3] + nums[4] = (-1) + 2 + (-1) = 0.\n",
    "The distinct triplets are [-1,0,1] and [-1,-1,2].\n",
    "Notice that the order of the output and the order of the triplets does not matter.\n",
    "```\n",
    "\n",
    "**Example 2:**\n",
    "Input: `nums = [0,1,1]`\n",
    "\n",
    "Output: `[]`\n",
    "\n",
    "Explanation: \n",
    "```text\n",
    "The only possible triplet does not sum up to 0.\n",
    "```\n",
    "\n",
    "**Example 3:**\n",
    "\n",
    "Input: `nums = [0,0,0]`\n",
    "\n",
    "Output: `[[0,0,0]]`\n",
    "\n",
    "Explanation: \n",
    "```text\n",
    "The only possible triplet sums up to 0.\n",
    "```\n",
    " \n",
    "Constraints:\n",
    "\n",
    "* `3 <= nums.length <= 3000`\n",
    "* `-105 <= nums[i] <= 105`"
   ]
  },
  {
   "cell_type": "code",
   "execution_count": 14,
   "metadata": {},
   "outputs": [
    {
     "data": {
      "text/plain": [
       "[[-1, -1, 2], [-1, 0, 1]]"
      ]
     },
     "execution_count": 14,
     "metadata": {},
     "output_type": "execute_result"
    }
   ],
   "source": [
    "class Solution:\n",
    "    def threeSum(self, nums: List[int]) -> List[List[int]]:\n",
    "        res = []\n",
    "        nums.sort()\n",
    "\n",
    "        for i in range(len(nums)):\n",
    "            if i > 0 and nums[i] == nums[i-1]:\n",
    "                continue\n",
    "            \n",
    "            j = i + 1\n",
    "            k = len(nums) - 1\n",
    "\n",
    "            while j < k:\n",
    "                total = nums[i] + nums[j] + nums[k]\n",
    "\n",
    "                if total > 0:\n",
    "                    k -= 1\n",
    "                elif total < 0:\n",
    "                    j += 1\n",
    "                else:\n",
    "                    res.append([nums[i], nums[j], nums[k]])\n",
    "                    j += 1\n",
    "\n",
    "                    while nums[j] == nums[j-1] and j < k:\n",
    "                        j += 1\n",
    "        \n",
    "        return res\n",
    "\n",
    "Solution().threeSum([-1,0,1,2,-1,-4])"
   ]
  },
  {
   "attachments": {
    "image.png": {
     "image/png": "[encoded data removed]"
    }
   },
   "cell_type": "markdown",
   "metadata": {},
   "source": [
    "Time complexity: `O(n^2)` Space complexity: `O(n)`. Depends on language you use. In python, sorting algorithm use Timsort which uses `O(n)` space.\n",
    "\n",
    "### Example 3 (11): Container with Most Water\n",
    "\n",
    "You are given an integer array `height` of length `n`. There are `n` vertical lines drawn such that the two endpoints of the `ith` line are `(i, 0)` and `(i, height[i])`.\n",
    "\n",
    "Find two lines that together with the x-axis form a container, such that the container contains the most water.\n",
    "\n",
    "Return the maximum amount of water a container can store.\n",
    "\n",
    "Notice that you may not slant the container.\n",
    "\n",
    "**Example 1:**\n",
    "\n",
    "![image.png](attachment:image.png)\n",
    "\n",
    "Input: `height = [1,8,6,2,5,4,8,3,7]`\n",
    "\n",
    "Output: `49`\n",
    "\n",
    "Explanation: `The above vertical lines are represented by array [1,8,6,2,5,4,8,3,7]. In this case, the max area of water (blue section) the container can contain is 49.\n",
    "Example 2:`\n",
    "\n",
    "Input: `height = [1,1]`\n",
    "Output: `1`\n",
    " \n",
    "\n",
    "Constraints:\n",
    "\n",
    "* `n == height.length`\n",
    "* `2 <= n <= 105`\n",
    "* `0 <= height[i] <= 104`"
   ]
  },
  {
   "cell_type": "code",
   "execution_count": 17,
   "metadata": {},
   "outputs": [
    {
     "data": {
      "text/plain": [
       "49"
      ]
     },
     "execution_count": 17,
     "metadata": {},
     "output_type": "execute_result"
    }
   ],
   "source": [
    "class Solution:\n",
    "    def maxArea(self, height: List[int]) -> int:\n",
    "        max_area = 0\n",
    "        left = 0\n",
    "        right = len(height) - 1\n",
    "\n",
    "        while left < right:\n",
    "            max_area = max(max_area, (right - left) * min(height[left], height[right]))\n",
    "\n",
    "            if height[left] < height[right]:\n",
    "                left += 1\n",
    "            else:\n",
    "                right -= 1\n",
    "        \n",
    "        return max_area\n",
    "\n",
    "Solution().maxArea([1,8,6,2,5,4,8,3,7])"
   ]
  },
  {
   "cell_type": "markdown",
   "metadata": {},
   "source": [
    "## Sliding Window\n",
    "\n",
    "helps us find subarrays or sub stings that meet a specific criteria\n",
    "\n",
    "suppose you given an array and you need to find the subarray of size K with the maximum sum let's say k is three. \n",
    "\n",
    "Brute Force approach is to consider all the sub arays of size three using a nested For Loop and pick the one with the maximum sum but since the adjust server is overlap there is lot of repetitive calculation leading to a Time complexity of order of `n * K`\n",
    "\n",
    "we can optimize this using sliding window approach we start by initializing a window containing the sum of first three elements and as we iterate through the array we subtract the leftmost item add new items value to the window and update the result this reduces time complexity to order of `n`\n",
    "\n",
    "### Example 1 (643): Maximum Average Subarray I\n",
    "\n",
    "You are given an integer array nums consisting of `n` elements, and an integer `k`.\n",
    "\n",
    "Find a contiguous subarray whose length is equal to `k` that has the maximum average value and return this value. Any answer with a calculation error less than $10^{-5}$ will be accepted.\n",
    "\n",
    "**Example 1:**\n",
    "\n",
    "Input: `nums = [1,12,-5,-6,50,3], k = 4`\n",
    "Output: `12.75000`\n",
    "\n",
    "Explanation: \n",
    "```Maximum average is (12 - 5 - 6 + 50) / 4 = 51 / 4 = 12.75```\n",
    "\n",
    "**Example 2:**\n",
    "\n",
    "Input: `nums = [5], k = 1`\n",
    "Output: `5.00000`\n",
    "\n",
    "Constraints:\n",
    "\n",
    "* `n == nums.length`\n",
    "* `1 <= k <= n <= 105`\n",
    "* `-104 <= nums[i] <= 104`"
   ]
  },
  {
   "cell_type": "code",
   "execution_count": 18,
   "metadata": {},
   "outputs": [
    {
     "data": {
      "text/plain": [
       "12.75"
      ]
     },
     "execution_count": 18,
     "metadata": {},
     "output_type": "execute_result"
    }
   ],
   "source": [
    "class Solution:\n",
    "    def findMaxAverage(self, nums: List[int], k: int) -> float:\n",
    "        n = len(nums)\n",
    "        moving_sum = sum(nums[:k])\n",
    "        max_avg = moving_sum / min(k, n)\n",
    "        for i in range(k,n):\n",
    "            moving_sum += (nums[i] - nums[i-k])\n",
    "            max_avg = max(max_avg, moving_sum/k)\n",
    "        return max_avg\n",
    "\n",
    "Solution().findMaxAverage(nums = [1,12,-5,-6,50,3], k = 4)"
   ]
  },
  {
   "cell_type": "markdown",
   "metadata": {},
   "source": [
    "### Example 2 (3): Longest Substring Without Repeating Characters\n",
    "\n",
    "Given a string `s`, find the length of the longest substring without duplicate characters.\n",
    "\n",
    "**Example 1:**\n",
    "\n",
    "Input: `s = \"abcabcbb\"`\n",
    "\n",
    "Output: `3`\n",
    "\n",
    "Explanation: ```The answer is \"abc\", with the length of 3.```\n",
    "\n",
    "**Example 2:**\n",
    "\n",
    "Input: `s = \"bbbbb\"`\n",
    "\n",
    "Output: `1`\n",
    "\n",
    "Explanation: ```The answer is \"b\", with the length of 1.```\n",
    "\n",
    "**Example 3:**\n",
    "\n",
    "Input: `s = \"pwwkew\"`\n",
    "\n",
    "Output: `3`\n",
    "\n",
    "Explanation: ```The answer is \"wke\", with the length of 3.\n",
    "Notice that the answer must be a substring, \"pwke\" is a subsequence and not a substring.```\n",
    " \n",
    "\n",
    "Constraints:\n",
    "\n",
    "* `0 <= s.length <= 5 * 104`\n",
    "* `s` consists of English letters, digits, symbols and spaces."
   ]
  },
  {
   "cell_type": "code",
   "execution_count": 21,
   "metadata": {},
   "outputs": [
    {
     "data": {
      "text/plain": [
       "3"
      ]
     },
     "execution_count": 21,
     "metadata": {},
     "output_type": "execute_result"
    }
   ],
   "source": [
    "class Solution:\n",
    "    def lengthOfLongestSubstring(self, s: str) -> int:\n",
    "        n = len(s)\n",
    "        max_length = 0\n",
    "        left = 0\n",
    "        for right in range(1,n+1):\n",
    "            if len(set(s[left:right]))==right-left:\n",
    "                max_length = max(max_length, right-left)\n",
    "            else:\n",
    "                left += 1\n",
    "                \n",
    "        return max_length\n",
    "\n",
    "Solution().lengthOfLongestSubstring(s = \"abcabcbb\")"
   ]
  },
  {
   "cell_type": "markdown",
   "metadata": {},
   "source": [
    "### Example 3 (76): Minimum Window Substring\n",
    "\n",
    "Given two strings `s` and `t` of lengths `m` and `n` respectively, return the minimum window substring of `s` such that every character in `t` (including duplicates) is included in the window. If there is no such substring, return the empty string \"\".\n",
    "\n",
    "The testcases will be generated such that the answer is unique.\n",
    "\n",
    "**Example 1:**\n",
    "\n",
    "Input: `s = \"ADOBECODEBANC\", t = \"ABC\"`\n",
    "\n",
    "Output: `\"BANC\"`\n",
    "\n",
    "Explanation: ```The minimum window substring \"BANC\" includes 'A', 'B', and 'C' from string t.```\n",
    "\n",
    "**Example 2:**\n",
    "\n",
    "Input: `s = \"a\", t = \"a\"`\n",
    "\n",
    "Output: `\"a\"`\n",
    "\n",
    "Explanation: ```The entire string s is the minimum window.```\n",
    "\n",
    "**Example 3:**\n",
    "\n",
    "Input: `s = \"a\", t = \"aa\"`\n",
    "Output: `\"\"`\n",
    "Explanation: ```Both 'a's from t must be included in the window.\n",
    "Since the largest window of s only has one 'a', return empty string.```\n",
    "\n",
    "Constraints:\n",
    "\n",
    "* `m == s.length`\n",
    "* `n == t.length`\n",
    "* `1 <= m, n <= 105`\n",
    "* `s` and `t` consist of uppercase and lowercase English letters.\n",
    "\n",
    "Follow up: Could you find an algorithm that runs in `O(m + n)` time?"
   ]
  },
  {
   "cell_type": "code",
   "execution_count": 22,
   "metadata": {},
   "outputs": [
    {
     "data": {
      "text/plain": [
       "'BANC'"
      ]
     },
     "execution_count": 22,
     "metadata": {},
     "output_type": "execute_result"
    }
   ],
   "source": [
    "class Solution:\n",
    "    def minWindow(self, s: str, t: str) -> str:\n",
    "        # Count the frequencies for chars in t\n",
    "        hash_map = dict()\n",
    "        for c in t:\n",
    "            if c in hash_map:\n",
    "                hash_map[c] += 1\n",
    "            else:\n",
    "                hash_map[c] = 1\n",
    "\n",
    "        start, end = 0, 0\n",
    "\n",
    "        # If the minimal length doesn't change, it means there's no valid window\n",
    "        min_window_length = len(s) + 1\n",
    "\n",
    "        # Start point of the minimal window\n",
    "        min_window_start = 0\n",
    "\n",
    "        # Works as a counter of how many chars still need to be included in a window\n",
    "        num_of_chars_to_be_included = len(t)\n",
    "\n",
    "        while end < len(s):\n",
    "            # If the current char is desired\n",
    "            if s[end] in hash_map:\n",
    "                # Then we decreased the counter, if this char is a \"must-have\" now, in a sense of critical value\n",
    "                if hash_map[s[end]] > 0:\n",
    "                    num_of_chars_to_be_included -= 1\n",
    "                # And we decrease the hash_map value\n",
    "                hash_map[s[end]] -= 1\n",
    "\n",
    "            # If the current window has all the desired chars\n",
    "            while num_of_chars_to_be_included == 0:\n",
    "                # See if this window is smaller\n",
    "                if end - start + 1 < min_window_length:\n",
    "                    min_window_length = end - start + 1\n",
    "                    min_window_start = start\n",
    "\n",
    "                # if s[start] is desired, we need to update the hash_map value and the counter\n",
    "                if s[start] in hash_map:\n",
    "                    hash_map[s[start]] += 1\n",
    "                    # Still, update the counter only if the current char is \"critical\"\n",
    "                    if hash_map[s[start]] > 0:\n",
    "                        num_of_chars_to_be_included += 1\n",
    "\n",
    "                # Move start forward to find a smaller window\n",
    "                start += 1\n",
    "\n",
    "            # Move end forward to find another valid window\n",
    "            end += 1\n",
    "\n",
    "        if min_window_length == len(s) + 1:\n",
    "            return \"\"\n",
    "        else:\n",
    "            return s[min_window_start:min_window_start + min_window_length]\n",
    "\n",
    "Solution().minWindow(s = \"ADOBECODEBANC\", t = \"ABC\")"
   ]
  },
  {
   "attachments": {
    "image-2.png": {
     "image/png": "[encoded data removed]"
    },
    "image-3.png": {
     "image/png": "[encoded data removed]"
    },
    "image.png": {
     "image/png": "[encoded data removed]"
    }
   },
   "cell_type": "markdown",
   "metadata": {},
   "source": [
    "## Fast and Slow Pointers\n",
    "\n",
    "helps solve problems related to link list and arrays which involves finding Cycles\n",
    "\n",
    "it works by moving two pointers at different speeds\n",
    "\n",
    "find the middle note of a link list in one pass when the fast pointer reaches the end the slow pointer will be at the middle of the link list\n",
    "\n",
    "### Example 1 (141): Linked List Cycle\n",
    "\n",
    "Given `head`, the head of a linked list, determine if the linked list has a cycle in it.\n",
    "\n",
    "There is a cycle in a linked list if there is some node in the list that can be reached again by continuously following the `next` pointer. Internally, `pos` is used to denote the index of the node that tail's `next` pointer is connected to. Note that `pos` is not passed as a parameter.\n",
    "\n",
    "Return `true` if there is a cycle in the linked list. Otherwise, return `false`.\n",
    "\n",
    "**Example 1:**\n",
    "\n",
    "![image.png](attachment:image.png)\n",
    "\n",
    "Input: `head = [3,2,0,-4], pos = 1`\n",
    "\n",
    "Output: `true`\n",
    "\n",
    "Explanation: ```There is a cycle in the linked list, where the tail connects to the 1st node (0-indexed).```\n",
    "\n",
    "**Example 2:**\n",
    "\n",
    "![image-2.png](attachment:image-2.png)\n",
    "\n",
    "Input: `head = [1,2], pos = 0`\n",
    "Output: `true`\n",
    "Explanation: ```There is a cycle in the linked list, where the tail connects to the 0th node.```\n",
    "\n",
    "**Example 3:**\n",
    "\n",
    "![image-3.png](attachment:image-3.png)\n",
    "\n",
    "Input: `head = [1], pos = -1`\n",
    "Output: `false`\n",
    "Explanation: ```There is no cycle in the linked list.```\n",
    "\n",
    "\n",
    "Constraints:\n",
    "\n",
    "* The number of the nodes in the list is in the range `[0, 104].`\n",
    "* `-105 <= Node.val <= 105`\n",
    "* `pos` is `-1` or a valid index in the linked-list.\n",
    " \n",
    "\n",
    "Follow up: Can you solve it using O(1) (i.e. constant) memory?"
   ]
  },
  {
   "cell_type": "code",
   "execution_count": 27,
   "metadata": {},
   "outputs": [
    {
     "data": {
      "text/plain": [
       "True"
      ]
     },
     "execution_count": 27,
     "metadata": {},
     "output_type": "execute_result"
    }
   ],
   "source": [
    "from typing import Optional\n",
    "\n",
    "class ListNode:\n",
    "    def __init__(self, val=0, next=None):\n",
    "        self.val = val\n",
    "        self.next = next\n",
    "\n",
    "def create_linked_list_with_cycle(values, pos):\n",
    "    if not values:\n",
    "        return None\n",
    "\n",
    "    head = ListNode(values[0])\n",
    "    current = head\n",
    "    cycle_node = None\n",
    "\n",
    "    for i in range(1, len(values)):\n",
    "        current.next = ListNode(values[i])\n",
    "        current = current.next\n",
    "        if i == pos:\n",
    "            cycle_node = current\n",
    "\n",
    "    if pos == 0:\n",
    "        cycle_node = head\n",
    "\n",
    "    if pos != -1:\n",
    "        current.next = cycle_node\n",
    "\n",
    "    return head\n",
    "\n",
    "\n",
    "class Solution:\n",
    "    def hasCycle(self, head: Optional[ListNode]) -> bool:\n",
    "    \n",
    "        fast = head\n",
    "        slow = head\n",
    "        \n",
    "        while fast and fast.next:\n",
    "            fast = fast.next.next\n",
    "            slow = slow.next\n",
    "            \n",
    "            if fast == slow:\n",
    "                return True\n",
    "    \n",
    "        return False\n",
    "\n",
    "head1 = create_linked_list_with_cycle([3,2,0,-4], 1)\n",
    "Solution().hasCycle(head1)"
   ]
  },
  {
   "cell_type": "markdown",
   "metadata": {},
   "source": [
    "### Example 2 (202): Happy Number\n",
    "\n",
    "Write an algorithm to determine if a number `n` is happy.\n",
    "\n",
    "A happy number is a number defined by the following process:\n",
    "\n",
    "* Starting with any positive integer, replace the number by the sum of the squares of its digits.\n",
    "* Repeat the process until the number equals 1 (where it will stay), or it loops endlessly in a cycle which does not include 1.\n",
    "* Those numbers for which this process ends in 1 are happy.\n",
    "\n",
    "Return `true` if `n` is a happy number, and `false` if not.\n",
    "\n",
    "**Example 1:**\n",
    "\n",
    "Input: `n = 19`\n",
    "Output: `true`\n",
    "Explanation:\n",
    "\n",
    "```12 + 92 = 82\n",
    "82 + 22 = 68\n",
    "62 + 82 = 100\n",
    "12 + 02 + 02 = 1\n",
    "```\n",
    "\n",
    "**Example 2:**\n",
    "\n",
    "Input: `n = 2`\n",
    "Output: `false`\n",
    " \n",
    "Constraints:\n",
    "\n",
    "* `1 <= n <= 231 - 1`\n"
   ]
  },
  {
   "cell_type": "code",
   "execution_count": 29,
   "metadata": {},
   "outputs": [
    {
     "data": {
      "text/plain": [
       "True"
      ]
     },
     "execution_count": 29,
     "metadata": {},
     "output_type": "execute_result"
    }
   ],
   "source": [
    "class Solution:\n",
    "    def isHappy(self, n: int) -> bool:    \n",
    "        visit = set()\n",
    "        \n",
    "        def get_next_number(n):    \n",
    "            output = 0\n",
    "            \n",
    "            while n:\n",
    "                digit = n % 10\n",
    "                output += digit ** 2\n",
    "                n = n // 10\n",
    "            \n",
    "            return output\n",
    "\n",
    "        while n not in visit:\n",
    "            visit.add(n)\n",
    "            n = get_next_number(n)\n",
    "            if n == 1:\n",
    "                return True\n",
    "        \n",
    "        return False\n",
    "\n",
    "Solution().isHappy(19)"
   ]
  },
  {
   "cell_type": "markdown",
   "metadata": {},
   "source": [
    "### Example 3 (287): Find the Duplicate Number\n",
    "\n",
    "Given an array of integers `nums` containing `n + 1` integers where each integer is in the range `[1, n]` inclusive.\n",
    "\n",
    "There is only one repeated number in `nums`, return this repeated number.\n",
    "\n",
    "You must solve the problem without modifying the array `nums` and using only constant extra space.\n",
    "\n",
    " \n",
    "\n",
    "Example 1:\n",
    "\n",
    "Input: `nums = [1,3,4,2,2]`\n",
    "Output: `2`\n",
    "\n",
    "Example 2:\n",
    "\n",
    "Input: `nums = [3,1,3,4,2]`\n",
    "Output: `3`\n",
    "\n",
    "Example 3:\n",
    "\n",
    "Input: `nums = [3,3,3,3,3]`\n",
    "Output: `3`\n",
    " \n",
    "\n",
    "Constraints:\n",
    "\n",
    "* `1 <= n <= 105`\n",
    "* `nums.length == n + 1`\n",
    "* `1 <= nums[i] <= n`\n",
    "* All the integers in nums appear only once except for precisely one integer which appears two or more times.\n",
    "  \n",
    "Follow up:\n",
    "\n",
    "* How can we prove that at least one duplicate number must exist in `nums`?`\n",
    "* Can you solve the problem in linear runtime complexity?"
   ]
  },
  {
   "cell_type": "code",
   "execution_count": 30,
   "metadata": {},
   "outputs": [
    {
     "data": {
      "text/plain": [
       "2"
      ]
     },
     "execution_count": 30,
     "metadata": {},
     "output_type": "execute_result"
    }
   ],
   "source": [
    "class Solution:\n",
    "    def findDuplicate(self, nums: List[int]) -> int:\n",
    "        dic = {}\n",
    "        for i in nums:\n",
    "            if i in dic:\n",
    "                return i\n",
    "            dic[i] = 1\n",
    "\n",
    "Solution().findDuplicate([1,3,4,2,2])"
   ]
  },
  {
   "cell_type": "markdown",
   "metadata": {},
   "source": [
    "## Linked List In-Place Reversal\n",
    "\n",
    "An optimal way is to use 3 pointers (previous, current, next) and replace.\n",
    "\n",
    "### Example 1 (206): Reverse Linked List\n",
    "\n",
    "Given the `head` of a singly linked list, reverse the list, and return the reversed list.\n",
    "\n",
    "Example 1:\n",
    "\n",
    "Input: `head = [1,2,3,4,5]`\n",
    "\n",
    "Output: `[5,4,3,2,1]`\n",
    "\n",
    "Example 2:\n",
    "\n",
    "Input: `head = [1,2]`\n",
    "\n",
    "Output: `[2,1]`\n",
    "\n",
    "Example 3:\n",
    "\n",
    "Input: `head = []`\n",
    "Output: `[]`\n",
    "\n",
    "Constraints:\n",
    "\n",
    "* The number of nodes in the list is the range `[0, 5000]`.\n",
    "* `-5000 <= Node.val <= 5000`\n",
    "\n",
    "Follow up: A linked list can be reversed either iteratively or recursively. Could you implement both?"
   ]
  },
  {
   "cell_type": "code",
   "execution_count": 38,
   "metadata": {},
   "outputs": [
    {
     "data": {
      "text/plain": [
       "<__main__.ListNode at 0x26297651670>"
      ]
     },
     "execution_count": 38,
     "metadata": {},
     "output_type": "execute_result"
    }
   ],
   "source": [
    "class ListNode:\n",
    "    def __init__(self, val=0, next=None):\n",
    "        self.val = val\n",
    "        self.next = next\n",
    "\n",
    "def create_linked_list_with_cycle(values, pos):\n",
    "    if not values:\n",
    "        return None\n",
    "\n",
    "    head = ListNode(values[0])\n",
    "    current = head\n",
    "    cycle_node = None\n",
    "\n",
    "    for i in range(1, len(values)):\n",
    "        current.next = ListNode(values[i])\n",
    "        current = current.next\n",
    "        if i == pos:\n",
    "            cycle_node = current\n",
    "\n",
    "    if pos == 0:\n",
    "        cycle_node = head\n",
    "\n",
    "    if pos != -1:\n",
    "        current.next = cycle_node\n",
    "\n",
    "    return head\n",
    "\n",
    "class Solution:\n",
    "    def reverseList(self, head: ListNode) -> ListNode:\n",
    "        prev = None\n",
    "        curr = head\n",
    "        while curr:\n",
    "            next_node = curr.next  # temporarily save the next node\n",
    "            curr.next = prev       # reverse the current node's pointer\n",
    "            prev = curr            # move prev and curr one step forward\n",
    "            curr = next_node\n",
    "        return prev\n",
    "\n",
    "head1 = create_linked_list_with_cycle([3,2,0,-4], 1)\n",
    "head2 = Solution().reverseList(head1)\n",
    "head2"
   ]
  },
  {
   "attachments": {
    "image.png": {
     "image/png": "[encoded data removed]"
    }
   },
   "cell_type": "markdown",
   "metadata": {},
   "source": [
    "This is O(N) in time and O(1) in space. However, if doing it recursively then it would be O(N) in time and O(N) in space.\n",
    "\n",
    "### Example 2 (92): Reverse Linked List II\n",
    "\n",
    "Given the `head` of a singly linked list and two integers `left` and `right` where `left <= right`, reverse the nodes of the list from position `left` to position `right`, and return the reversed list.\n",
    "\n",
    "**Example 1:**\n",
    "![image.png](attachment:image.png)\n",
    "Input: `head = [1,2,3,4,5], left = 2, right = 4`\n",
    "\n",
    "Output: `[1,4,3,2,5]`\n",
    "\n",
    "**Example 2:**\n",
    "\n",
    "Input: `head = [5], left = 1, right = 1`\n",
    "\n",
    "Output: `[5]`\n",
    "\n",
    "**Constraints:**\n",
    "\n",
    "* The number of nodes in the list is `n`.\n",
    "* `1 <= n <= 500`\n",
    "* `-500 <= Node.val <= 500`\n",
    "* `1 <= left <= right <= n`\n",
    "\n",
    "Follow up: Could you do it in one pass?"
   ]
  },
  {
   "cell_type": "code",
   "execution_count": null,
   "metadata": {},
   "outputs": [],
   "source": []
  }
 ],
 "metadata": {
  "kernelspec": {
   "display_name": "stonks_py310",
   "language": "python",
   "name": "python3"
  },
  "language_info": {
   "codemirror_mode": {
    "name": "ipython",
    "version": 3
   },
   "file_extension": ".py",
   "mimetype": "text/x-python",
   "name": "python",
   "nbconvert_exporter": "python",
   "pygments_lexer": "ipython3",
   "version": "3.12.7"
  }
 },
 "nbformat": 4,
 "nbformat_minor": 2
}
